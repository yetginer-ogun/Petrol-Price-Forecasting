{
 "cells": [
  {
   "cell_type": "code",
   "execution_count": 1,
   "id": "75f33e7d",
   "metadata": {},
   "outputs": [],
   "source": [
    "import pandas as pd\n",
    "import numpy as np\n",
    "from matplotlib import pyplot as plt\n",
    "%matplotlib inline\n",
    "import matplotlib "
   ]
  },
  {
   "cell_type": "markdown",
   "id": "1436d3f1",
   "metadata": {},
   "source": [
    "KAYNAK===> https://www.eia.gov/dnav/pet/hist/LeafHandler.ashx?n=pet&s=emm_epm0_pte_nus_dpg&f=m"
   ]
  },
  {
   "cell_type": "code",
   "execution_count": 2,
   "id": "05a4b314",
   "metadata": {},
   "outputs": [
    {
     "data": {
      "text/html": [
       "<div>\n",
       "<style scoped>\n",
       "    .dataframe tbody tr th:only-of-type {\n",
       "        vertical-align: middle;\n",
       "    }\n",
       "\n",
       "    .dataframe tbody tr th {\n",
       "        vertical-align: top;\n",
       "    }\n",
       "\n",
       "    .dataframe thead th {\n",
       "        text-align: right;\n",
       "    }\n",
       "</style>\n",
       "<table border=\"1\" class=\"dataframe\">\n",
       "  <thead>\n",
       "    <tr style=\"text-align: right;\">\n",
       "      <th></th>\n",
       "      <th>Date</th>\n",
       "      <th>Prices</th>\n",
       "    </tr>\n",
       "  </thead>\n",
       "  <tbody>\n",
       "    <tr>\n",
       "      <th>0</th>\n",
       "      <td>Oct 2022</td>\n",
       "      <td>3.935</td>\n",
       "    </tr>\n",
       "    <tr>\n",
       "      <th>1</th>\n",
       "      <td>Sep 2022</td>\n",
       "      <td>3.817</td>\n",
       "    </tr>\n",
       "    <tr>\n",
       "      <th>2</th>\n",
       "      <td>Aug 2022</td>\n",
       "      <td>4.087</td>\n",
       "    </tr>\n",
       "    <tr>\n",
       "      <th>3</th>\n",
       "      <td>Jul 2022</td>\n",
       "      <td>4.668</td>\n",
       "    </tr>\n",
       "    <tr>\n",
       "      <th>4</th>\n",
       "      <td>Jun 2022</td>\n",
       "      <td>5.032</td>\n",
       "    </tr>\n",
       "  </tbody>\n",
       "</table>\n",
       "</div>"
      ],
      "text/plain": [
       "       Date  Prices\n",
       "0  Oct 2022   3.935\n",
       "1  Sep 2022   3.817\n",
       "2  Aug 2022   4.087\n",
       "3  Jul 2022   4.668\n",
       "4  Jun 2022   5.032"
      ]
     },
     "execution_count": 2,
     "metadata": {},
     "output_type": "execute_result"
    }
   ],
   "source": [
    "df = pd.read_csv(\"U.S._All_Grades_All_Formulations_Retail_Gasoline_Prices.csv\")\n",
    "df.head()"
   ]
  },
  {
   "cell_type": "code",
   "execution_count": 3,
   "id": "1697549f",
   "metadata": {},
   "outputs": [
    {
     "data": {
      "text/plain": [
       "(355, 2)"
      ]
     },
     "execution_count": 3,
     "metadata": {},
     "output_type": "execute_result"
    }
   ],
   "source": [
    "df.shape"
   ]
  },
  {
   "cell_type": "code",
   "execution_count": 4,
   "id": "e8486c19",
   "metadata": {},
   "outputs": [
    {
     "name": "stdout",
     "output_type": "stream",
     "text": [
      "<class 'pandas.core.frame.DataFrame'>\n",
      "RangeIndex: 355 entries, 0 to 354\n",
      "Data columns (total 2 columns):\n",
      " #   Column  Non-Null Count  Dtype  \n",
      "---  ------  --------------  -----  \n",
      " 0   Date    355 non-null    object \n",
      " 1   Prices  355 non-null    float64\n",
      "dtypes: float64(1), object(1)\n",
      "memory usage: 5.7+ KB\n"
     ]
    }
   ],
   "source": [
    "df.info()"
   ]
  },
  {
   "cell_type": "code",
   "execution_count": 5,
   "id": "7a3b5745",
   "metadata": {},
   "outputs": [
    {
     "data": {
      "text/html": [
       "<div>\n",
       "<style scoped>\n",
       "    .dataframe tbody tr th:only-of-type {\n",
       "        vertical-align: middle;\n",
       "    }\n",
       "\n",
       "    .dataframe tbody tr th {\n",
       "        vertical-align: top;\n",
       "    }\n",
       "\n",
       "    .dataframe thead th {\n",
       "        text-align: right;\n",
       "    }\n",
       "</style>\n",
       "<table border=\"1\" class=\"dataframe\">\n",
       "  <thead>\n",
       "    <tr style=\"text-align: right;\">\n",
       "      <th></th>\n",
       "      <th>count</th>\n",
       "      <th>mean</th>\n",
       "      <th>std</th>\n",
       "      <th>min</th>\n",
       "      <th>25%</th>\n",
       "      <th>50%</th>\n",
       "      <th>75%</th>\n",
       "      <th>max</th>\n",
       "    </tr>\n",
       "  </thead>\n",
       "  <tbody>\n",
       "    <tr>\n",
       "      <th>Prices</th>\n",
       "      <td>355.0</td>\n",
       "      <td>2.293558</td>\n",
       "      <td>0.9315</td>\n",
       "      <td>0.962</td>\n",
       "      <td>1.4195</td>\n",
       "      <td>2.316</td>\n",
       "      <td>2.9445</td>\n",
       "      <td>5.032</td>\n",
       "    </tr>\n",
       "  </tbody>\n",
       "</table>\n",
       "</div>"
      ],
      "text/plain": [
       "        count      mean     std    min     25%    50%     75%    max\n",
       "Prices  355.0  2.293558  0.9315  0.962  1.4195  2.316  2.9445  5.032"
      ]
     },
     "execution_count": 5,
     "metadata": {},
     "output_type": "execute_result"
    }
   ],
   "source": [
    "df.describe().T"
   ]
  },
  {
   "cell_type": "code",
   "execution_count": 6,
   "id": "822a67c4",
   "metadata": {},
   "outputs": [
    {
     "data": {
      "text/html": [
       "<div>\n",
       "<style scoped>\n",
       "    .dataframe tbody tr th:only-of-type {\n",
       "        vertical-align: middle;\n",
       "    }\n",
       "\n",
       "    .dataframe tbody tr th {\n",
       "        vertical-align: top;\n",
       "    }\n",
       "\n",
       "    .dataframe thead th {\n",
       "        text-align: right;\n",
       "    }\n",
       "</style>\n",
       "<table border=\"1\" class=\"dataframe\">\n",
       "  <thead>\n",
       "    <tr style=\"text-align: right;\">\n",
       "      <th></th>\n",
       "      <th>Date</th>\n",
       "      <th>Prices</th>\n",
       "    </tr>\n",
       "  </thead>\n",
       "  <tbody>\n",
       "    <tr>\n",
       "      <th>354</th>\n",
       "      <td>Apr 1993</td>\n",
       "      <td>1.078</td>\n",
       "    </tr>\n",
       "    <tr>\n",
       "      <th>342</th>\n",
       "      <td>Apr 1994</td>\n",
       "      <td>1.027</td>\n",
       "    </tr>\n",
       "    <tr>\n",
       "      <th>330</th>\n",
       "      <td>Apr 1995</td>\n",
       "      <td>1.157</td>\n",
       "    </tr>\n",
       "    <tr>\n",
       "      <th>318</th>\n",
       "      <td>Apr 1996</td>\n",
       "      <td>1.275</td>\n",
       "    </tr>\n",
       "    <tr>\n",
       "      <th>306</th>\n",
       "      <td>Apr 1997</td>\n",
       "      <td>1.244</td>\n",
       "    </tr>\n",
       "    <tr>\n",
       "      <th>...</th>\n",
       "      <td>...</td>\n",
       "      <td>...</td>\n",
       "    </tr>\n",
       "    <tr>\n",
       "      <th>49</th>\n",
       "      <td>Sep 2018</td>\n",
       "      <td>2.915</td>\n",
       "    </tr>\n",
       "    <tr>\n",
       "      <th>37</th>\n",
       "      <td>Sep 2019</td>\n",
       "      <td>2.681</td>\n",
       "    </tr>\n",
       "    <tr>\n",
       "      <th>25</th>\n",
       "      <td>Sep 2020</td>\n",
       "      <td>2.274</td>\n",
       "    </tr>\n",
       "    <tr>\n",
       "      <th>13</th>\n",
       "      <td>Sep 2021</td>\n",
       "      <td>3.272</td>\n",
       "    </tr>\n",
       "    <tr>\n",
       "      <th>1</th>\n",
       "      <td>Sep 2022</td>\n",
       "      <td>3.817</td>\n",
       "    </tr>\n",
       "  </tbody>\n",
       "</table>\n",
       "<p>355 rows × 2 columns</p>\n",
       "</div>"
      ],
      "text/plain": [
       "         Date  Prices\n",
       "354  Apr 1993   1.078\n",
       "342  Apr 1994   1.027\n",
       "330  Apr 1995   1.157\n",
       "318  Apr 1996   1.275\n",
       "306  Apr 1997   1.244\n",
       "..        ...     ...\n",
       "49   Sep 2018   2.915\n",
       "37   Sep 2019   2.681\n",
       "25   Sep 2020   2.274\n",
       "13   Sep 2021   3.272\n",
       "1    Sep 2022   3.817\n",
       "\n",
       "[355 rows x 2 columns]"
      ]
     },
     "execution_count": 6,
     "metadata": {},
     "output_type": "execute_result"
    }
   ],
   "source": [
    "df.sort_values(\"Date\")"
   ]
  },
  {
   "cell_type": "code",
   "execution_count": 7,
   "id": "1093b317",
   "metadata": {},
   "outputs": [],
   "source": [
    "aylar = []\n",
    "yillar = []\n",
    "def parcala(x):\n",
    "    for i in x:\n",
    "        aylar.append(i.split()[0])\n",
    "        yillar.append(int(i.split()[1]))"
   ]
  },
  {
   "cell_type": "code",
   "execution_count": 8,
   "id": "feee4009",
   "metadata": {},
   "outputs": [],
   "source": [
    "tarih = df[\"Date\"]"
   ]
  },
  {
   "cell_type": "code",
   "execution_count": 9,
   "id": "2fab9c8b",
   "metadata": {},
   "outputs": [
    {
     "name": "stdout",
     "output_type": "stream",
     "text": [
      "['Oct', 'Sep', 'Aug', 'Jul', 'Jun']\n",
      "[2022, 2022, 2022, 2022, 2022]\n"
     ]
    }
   ],
   "source": [
    "parcala(tarih)\n",
    "print(aylar[0:5])\n",
    "print(yillar[0:5])"
   ]
  },
  {
   "cell_type": "code",
   "execution_count": 11,
   "id": "275996ec",
   "metadata": {},
   "outputs": [
    {
     "data": {
      "text/plain": [
       "0      1.078\n",
       "1      1.100\n",
       "2      1.097\n",
       "3      1.078\n",
       "4      1.062\n",
       "       ...  \n",
       "350    5.032\n",
       "351    4.668\n",
       "352    4.087\n",
       "353    3.817\n",
       "354    3.935\n",
       "Name: Prices, Length: 355, dtype: float64"
      ]
     },
     "execution_count": 11,
     "metadata": {},
     "output_type": "execute_result"
    }
   ],
   "source": [
    "fiyatlar = df[\"Prices\"][::-1]\n",
    "fiyatlar = fiyatlar.reset_index(drop = True)\n",
    "fiyatlar"
   ]
  },
  {
   "cell_type": "code",
   "execution_count": 12,
   "id": "3de6c0f8",
   "metadata": {
    "scrolled": true
   },
   "outputs": [
    {
     "data": {
      "text/html": [
       "<div>\n",
       "<style scoped>\n",
       "    .dataframe tbody tr th:only-of-type {\n",
       "        vertical-align: middle;\n",
       "    }\n",
       "\n",
       "    .dataframe tbody tr th {\n",
       "        vertical-align: top;\n",
       "    }\n",
       "\n",
       "    .dataframe thead th {\n",
       "        text-align: right;\n",
       "    }\n",
       "</style>\n",
       "<table border=\"1\" class=\"dataframe\">\n",
       "  <thead>\n",
       "    <tr style=\"text-align: right;\">\n",
       "      <th></th>\n",
       "      <th>Ay</th>\n",
       "      <th>Yıl</th>\n",
       "      <th>Petrol Fiyatı</th>\n",
       "    </tr>\n",
       "  </thead>\n",
       "  <tbody>\n",
       "    <tr>\n",
       "      <th>0</th>\n",
       "      <td>Apr</td>\n",
       "      <td>1993</td>\n",
       "      <td>1.078</td>\n",
       "    </tr>\n",
       "    <tr>\n",
       "      <th>1</th>\n",
       "      <td>May</td>\n",
       "      <td>1993</td>\n",
       "      <td>1.100</td>\n",
       "    </tr>\n",
       "    <tr>\n",
       "      <th>2</th>\n",
       "      <td>Jun</td>\n",
       "      <td>1993</td>\n",
       "      <td>1.097</td>\n",
       "    </tr>\n",
       "    <tr>\n",
       "      <th>3</th>\n",
       "      <td>Jul</td>\n",
       "      <td>1993</td>\n",
       "      <td>1.078</td>\n",
       "    </tr>\n",
       "    <tr>\n",
       "      <th>4</th>\n",
       "      <td>Aug</td>\n",
       "      <td>1993</td>\n",
       "      <td>1.062</td>\n",
       "    </tr>\n",
       "  </tbody>\n",
       "</table>\n",
       "</div>"
      ],
      "text/plain": [
       "    Ay   Yıl  Petrol Fiyatı\n",
       "0  Apr  1993          1.078\n",
       "1  May  1993          1.100\n",
       "2  Jun  1993          1.097\n",
       "3  Jul  1993          1.078\n",
       "4  Aug  1993          1.062"
      ]
     },
     "execution_count": 12,
     "metadata": {},
     "output_type": "execute_result"
    }
   ],
   "source": [
    "df[\"Ay\"] = aylar[::-1]\n",
    "df[\"Yıl\"] = yillar[::-1]\n",
    "df[\"Petrol Fiyatı\"] = fiyatlar\n",
    "df.drop(columns = [\"Date\",\"Prices\"], axis = 1, inplace=True)\n",
    "df.head()"
   ]
  },
  {
   "cell_type": "code",
   "execution_count": 14,
   "id": "09ec9521",
   "metadata": {},
   "outputs": [],
   "source": [
    "df = df.set_index([\"Yıl\",\"Ay\"])"
   ]
  },
  {
   "cell_type": "code",
   "execution_count": 15,
   "id": "488c8d82",
   "metadata": {},
   "outputs": [
    {
     "data": {
      "text/html": [
       "<div>\n",
       "<style scoped>\n",
       "    .dataframe tbody tr th:only-of-type {\n",
       "        vertical-align: middle;\n",
       "    }\n",
       "\n",
       "    .dataframe tbody tr th {\n",
       "        vertical-align: top;\n",
       "    }\n",
       "\n",
       "    .dataframe thead th {\n",
       "        text-align: right;\n",
       "    }\n",
       "</style>\n",
       "<table border=\"1\" class=\"dataframe\">\n",
       "  <thead>\n",
       "    <tr style=\"text-align: right;\">\n",
       "      <th></th>\n",
       "      <th></th>\n",
       "      <th>Petrol Fiyatı</th>\n",
       "    </tr>\n",
       "    <tr>\n",
       "      <th>Yıl</th>\n",
       "      <th>Ay</th>\n",
       "      <th></th>\n",
       "    </tr>\n",
       "  </thead>\n",
       "  <tbody>\n",
       "    <tr>\n",
       "      <th rowspan=\"5\" valign=\"top\">1993</th>\n",
       "      <th>Apr</th>\n",
       "      <td>1.078</td>\n",
       "    </tr>\n",
       "    <tr>\n",
       "      <th>May</th>\n",
       "      <td>1.100</td>\n",
       "    </tr>\n",
       "    <tr>\n",
       "      <th>Jun</th>\n",
       "      <td>1.097</td>\n",
       "    </tr>\n",
       "    <tr>\n",
       "      <th>Jul</th>\n",
       "      <td>1.078</td>\n",
       "    </tr>\n",
       "    <tr>\n",
       "      <th>Aug</th>\n",
       "      <td>1.062</td>\n",
       "    </tr>\n",
       "    <tr>\n",
       "      <th>...</th>\n",
       "      <th>...</th>\n",
       "      <td>...</td>\n",
       "    </tr>\n",
       "    <tr>\n",
       "      <th rowspan=\"5\" valign=\"top\">2022</th>\n",
       "      <th>Jun</th>\n",
       "      <td>5.032</td>\n",
       "    </tr>\n",
       "    <tr>\n",
       "      <th>Jul</th>\n",
       "      <td>4.668</td>\n",
       "    </tr>\n",
       "    <tr>\n",
       "      <th>Aug</th>\n",
       "      <td>4.087</td>\n",
       "    </tr>\n",
       "    <tr>\n",
       "      <th>Sep</th>\n",
       "      <td>3.817</td>\n",
       "    </tr>\n",
       "    <tr>\n",
       "      <th>Oct</th>\n",
       "      <td>3.935</td>\n",
       "    </tr>\n",
       "  </tbody>\n",
       "</table>\n",
       "<p>355 rows × 1 columns</p>\n",
       "</div>"
      ],
      "text/plain": [
       "          Petrol Fiyatı\n",
       "Yıl  Ay                \n",
       "1993 Apr          1.078\n",
       "     May          1.100\n",
       "     Jun          1.097\n",
       "     Jul          1.078\n",
       "     Aug          1.062\n",
       "...                 ...\n",
       "2022 Jun          5.032\n",
       "     Jul          4.668\n",
       "     Aug          4.087\n",
       "     Sep          3.817\n",
       "     Oct          3.935\n",
       "\n",
       "[355 rows x 1 columns]"
      ]
     },
     "execution_count": 15,
     "metadata": {},
     "output_type": "execute_result"
    }
   ],
   "source": [
    "df"
   ]
  },
  {
   "cell_type": "code",
   "execution_count": 26,
   "id": "53a89360",
   "metadata": {
    "scrolled": false
   },
   "outputs": [
    {
     "data": {
      "image/png": "[encoded data removed]",
      "text/plain": [
       "<Figure size 1080x432 with 1 Axes>"
      ]
     },
     "metadata": {
      "needs_background": "light"
     },
     "output_type": "display_data"
    }
   ],
   "source": [
    "df.plot(figsize = (15,6));"
   ]
  },
  {
   "cell_type": "code",
   "execution_count": 30,
   "id": "d2bb7aef",
   "metadata": {
    "scrolled": true
   },
   "outputs": [
    {
     "data": {
      "text/plain": [
       "0      1.078\n",
       "1      1.100\n",
       "2      1.097\n",
       "3      1.078\n",
       "4      1.062\n",
       "       ...  \n",
       "350    5.032\n",
       "351    4.668\n",
       "352    4.087\n",
       "353    3.817\n",
       "354    3.935\n",
       "Name: Petrol Fiyatı, Length: 355, dtype: float64"
      ]
     },
     "execution_count": 30,
     "metadata": {},
     "output_type": "execute_result"
    }
   ],
   "source": [
    "df2 = df[\"Petrol Fiyatı\"]\n",
    "df2 = df2.reset_index(drop=True)\n",
    "df2"
   ]
  },
  {
   "cell_type": "code",
   "execution_count": 101,
   "id": "4165d85a",
   "metadata": {},
   "outputs": [
    {
     "data": {
      "text/plain": [
       "(355,)"
      ]
     },
     "execution_count": 101,
     "metadata": {},
     "output_type": "execute_result"
    }
   ],
   "source": [
    "df2.shape"
   ]
  },
  {
   "cell_type": "markdown",
   "id": "cdd1eeb6",
   "metadata": {},
   "source": [
    "### Scaling"
   ]
  },
  {
   "cell_type": "markdown",
   "id": "319fae3e",
   "metadata": {},
   "source": [
    "Elimde pandas series var ama scaler bunu kabul etmiyor. O yüzden numpay arrayine çeviriyorum"
   ]
  },
  {
   "cell_type": "code",
   "execution_count": 78,
   "id": "f86d3c8d",
   "metadata": {},
   "outputs": [
    {
     "data": {
      "text/plain": [
       "array([[0.02850123],\n",
       "       [0.03390663],\n",
       "       [0.03316953],\n",
       "       [0.02850123],\n",
       "       [0.02457002],\n",
       "       [0.02162162],\n",
       "       [0.03194103],\n",
       "       [0.02555283],\n",
       "       [0.01277641],\n",
       "       [0.00884521],\n",
       "       [0.01154791],\n",
       "       [0.01130221],\n",
       "       [0.01597052],\n",
       "       [0.02088452],\n",
       "       [0.02850123],\n",
       "       [0.03538084],\n",
       "       [0.04742015],\n",
       "       [0.04471744],\n",
       "       [0.03734644],\n",
       "       [0.03857494],\n",
       "       [0.04103194],\n",
       "       [0.04127764],\n",
       "       [0.03882064],\n",
       "       [0.03857494],\n",
       "       [0.04791155],\n",
       "       [0.06461916],\n",
       "       [0.06805897],\n",
       "       [0.05872236],\n",
       "       [0.05110565],\n",
       "       [0.04815725],\n",
       "       [0.04226044],\n",
       "       [0.03611794],\n",
       "       [0.03832924],\n",
       "       [0.04299754],\n",
       "       [0.04275184],\n",
       "       [0.05429975],\n",
       "       [0.07690418],\n",
       "       [0.08894349],\n",
       "       [0.08304668],\n",
       "       [0.07616708],\n",
       "       [0.07100737],\n",
       "       [0.07002457],\n",
       "       [0.07051597],\n",
       "       [0.07764128],\n",
       "       [0.07862408],\n",
       "       [0.07886978],\n",
       "       [0.07714988],\n",
       "       [0.07100737],\n",
       "       [0.06928747],\n",
       "       [0.06953317],\n",
       "       [0.06879607],\n",
       "       [0.06339066],\n",
       "       [0.07518428],\n",
       "       [0.07714988],\n",
       "       [0.06879607],\n",
       "       [0.06240786],\n",
       "       [0.05282555],\n",
       "       [0.04176904],\n",
       "       [0.03292383],\n",
       "       [0.02506143],\n",
       "       [0.02825553],\n",
       "       [0.03513514],\n",
       "       [0.03464373],\n",
       "       [0.03243243],\n",
       "       [0.02530713],\n",
       "       [0.02137592],\n",
       "       [0.02383292],\n",
       "       [0.01818182],\n",
       "       [0.00614251],\n",
       "       [0.0044226 ],\n",
       "       [0.        ],\n",
       "       [0.01474201],\n",
       "       [0.05135135],\n",
       "       [0.05135135],\n",
       "       [0.04717445],\n",
       "       [0.05773956],\n",
       "       [0.07321867],\n",
       "       [0.08181818],\n",
       "       [0.07936118],\n",
       "       [0.08108108],\n",
       "       [0.08624079],\n",
       "       [0.09017199],\n",
       "       [0.11130221],\n",
       "       [0.14594595],\n",
       "       [0.13366093],\n",
       "       [0.13857494],\n",
       "       [0.17297297],\n",
       "       [0.15454545],\n",
       "       [0.13366093],\n",
       "       [0.15380835],\n",
       "       [0.14963145],\n",
       "       [0.14619165],\n",
       "       [0.12800983],\n",
       "       [0.12899263],\n",
       "       [0.12972973],\n",
       "       [0.11990172],\n",
       "       [0.15454545],\n",
       "       [0.19066339],\n",
       "       [0.17100737],\n",
       "       [0.12383292],\n",
       "       [0.12260442],\n",
       "       [0.14619165],\n",
       "       [0.0970516 ],\n",
       "       [0.06142506],\n",
       "       [0.04054054],\n",
       "       [0.04570025],\n",
       "       [0.04742015],\n",
       "       [0.08034398],\n",
       "       [0.11719902],\n",
       "       [0.11597052],\n",
       "       [0.11351351],\n",
       "       [0.11695332],\n",
       "       [0.11695332],\n",
       "       [0.11769042],\n",
       "       [0.12874693],\n",
       "       [0.12260442],\n",
       "       [0.11474201],\n",
       "       [0.13218673],\n",
       "       [0.17027027],\n",
       "       [0.18968059],\n",
       "       [0.16486486],\n",
       "       [0.14176904],\n",
       "       [0.14029484],\n",
       "       [0.14545455],\n",
       "       [0.17174447],\n",
       "       [0.18648649],\n",
       "       [0.15823096],\n",
       "       [0.14570025],\n",
       "       [0.13759214],\n",
       "       [0.16019656],\n",
       "       [0.17886978],\n",
       "       [0.2004914 ],\n",
       "       [0.21547912],\n",
       "       [0.26068796],\n",
       "       [0.25823096],\n",
       "       [0.24373464],\n",
       "       [0.23538084],\n",
       "       [0.23341523],\n",
       "       [0.26535627],\n",
       "       [0.26068796],\n",
       "       [0.22727273],\n",
       "       [0.22432432],\n",
       "       [0.24348894],\n",
       "       [0.28452088],\n",
       "       [0.32506143],\n",
       "       [0.30540541],\n",
       "       [0.3036855 ],\n",
       "       [0.33685504],\n",
       "       [0.38501229],\n",
       "       [0.48869779],\n",
       "       [0.44299754],\n",
       "       [0.32948403],\n",
       "       [0.31130221],\n",
       "       [0.34348894],\n",
       "       [0.33513514],\n",
       "       [0.37002457],\n",
       "       [0.44840295],\n",
       "       [0.48918919],\n",
       "       [0.48353808],\n",
       "       [0.50687961],\n",
       "       [0.5004914 ],\n",
       "       [0.4039312 ],\n",
       "       [0.32702703],\n",
       "       [0.32260442],\n",
       "       [0.34324324],\n",
       "       [0.32604423],\n",
       "       [0.33439803],\n",
       "       [0.4046683 ],\n",
       "       [0.47395577],\n",
       "       [0.54668305],\n",
       "       [0.52579853],\n",
       "       [0.5034398 ],\n",
       "       [0.45995086],\n",
       "       [0.46363636],\n",
       "       [0.46461916],\n",
       "       [0.53218673],\n",
       "       [0.51793612],\n",
       "       [0.52407862],\n",
       "       [0.51990172],\n",
       "       [0.57272727],\n",
       "       [0.62530713],\n",
       "       [0.7009828 ],\n",
       "       [0.77223587],\n",
       "       [0.77444717],\n",
       "       [0.70540541],\n",
       "       [0.68648649],\n",
       "       [0.52825553],\n",
       "       [0.30614251],\n",
       "       [0.19238329],\n",
       "       [0.21572482],\n",
       "       [0.24889435],\n",
       "       [0.25773956],\n",
       "       [0.28009828],\n",
       "       [0.33267813],\n",
       "       [0.42235872],\n",
       "       [0.3980344 ],\n",
       "       [0.41965602],\n",
       "       [0.4046683 ],\n",
       "       [0.4036855 ],\n",
       "       [0.42850123],\n",
       "       [0.41793612],\n",
       "       [0.44398034],\n",
       "       [0.42678133],\n",
       "       [0.45749386],\n",
       "       [0.47616708],\n",
       "       [0.47371007],\n",
       "       [0.44791155],\n",
       "       [0.44717445],\n",
       "       [0.44742015],\n",
       "       [0.44103194],\n",
       "       [0.46461916],\n",
       "       [0.47936118],\n",
       "       [0.51253071],\n",
       "       [0.53710074],\n",
       "       [0.56560197],\n",
       "       [0.65184275],\n",
       "       [0.71007371],\n",
       "       [0.73660934],\n",
       "       [0.68132678],\n",
       "       [0.67395577],\n",
       "       [0.67174447],\n",
       "       [0.66461916],\n",
       "       [0.62506143],\n",
       "       [0.60958231],\n",
       "       [0.58083538],\n",
       "       [0.60884521],\n",
       "       [0.65798526],\n",
       "       [0.72358722],\n",
       "       [0.73611794],\n",
       "       [0.695086  ],\n",
       "       [0.64717445],\n",
       "       [0.62309582],\n",
       "       [0.69238329],\n",
       "       [0.72432432],\n",
       "       [0.7002457 ],\n",
       "       [0.62874693],\n",
       "       [0.59434889],\n",
       "       [0.5968059 ],\n",
       "       [0.68157248],\n",
       "       [0.69213759],\n",
       "       [0.65749386],\n",
       "       [0.66658477],\n",
       "       [0.67002457],\n",
       "       [0.66314496],\n",
       "       [0.65921376],\n",
       "       [0.64914005],\n",
       "       [0.6039312 ],\n",
       "       [0.57985258],\n",
       "       [0.58845209],\n",
       "       [0.5970516 ],\n",
       "       [0.60737101],\n",
       "       [0.64963145],\n",
       "       [0.68132678],\n",
       "       [0.68501229],\n",
       "       [0.68894349],\n",
       "       [0.66977887],\n",
       "       [0.63955774],\n",
       "       [0.61965602],\n",
       "       [0.56339066],\n",
       "       [0.5       ],\n",
       "       [0.41031941],\n",
       "       [0.30614251],\n",
       "       [0.32899263],\n",
       "       [0.38918919],\n",
       "       [0.39140049],\n",
       "       [0.45208845],\n",
       "       [0.47248157],\n",
       "       [0.47125307],\n",
       "       [0.43341523],\n",
       "       [0.36855037],\n",
       "       [0.35012285],\n",
       "       [0.31891892],\n",
       "       [0.29041769],\n",
       "       [0.26904177],\n",
       "       [0.22358722],\n",
       "       [0.27248157],\n",
       "       [0.30810811],\n",
       "       [0.34619165],\n",
       "       [0.36977887],\n",
       "       [0.33980344],\n",
       "       [0.32481572],\n",
       "       [0.33538084],\n",
       "       [0.34324324],\n",
       "       [0.32751843],\n",
       "       [0.34496314],\n",
       "       [0.36756757],\n",
       "       [0.35724816],\n",
       "       [0.36240786],\n",
       "       [0.38476658],\n",
       "       [0.37862408],\n",
       "       [0.36805897],\n",
       "       [0.35675676],\n",
       "       [0.37641278],\n",
       "       [0.44201474],\n",
       "       [0.40761671],\n",
       "       [0.42162162],\n",
       "       [0.4009828 ],\n",
       "       [0.41990172],\n",
       "       [0.42825553],\n",
       "       [0.42923833],\n",
       "       [0.46953317],\n",
       "       [0.497543  ],\n",
       "       [0.49336609],\n",
       "       [0.48304668],\n",
       "       [0.47960688],\n",
       "       [0.47985258],\n",
       "       [0.48673219],\n",
       "       [0.43587224],\n",
       "       [0.36732187],\n",
       "       [0.33808354],\n",
       "       [0.35159705],\n",
       "       [0.4009828 ],\n",
       "       [0.47149877],\n",
       "       [0.48746929],\n",
       "       [0.45257985],\n",
       "       [0.45724816],\n",
       "       [0.42874693],\n",
       "       [0.42235872],\n",
       "       [0.43292383],\n",
       "       [0.42530713],\n",
       "       [0.41351351],\n",
       "       [0.41130221],\n",
       "       [0.38599509],\n",
       "       [0.33587224],\n",
       "       [0.23980344],\n",
       "       [0.24545455],\n",
       "       [0.2968059 ],\n",
       "       [0.32186732],\n",
       "       [0.32186732],\n",
       "       [0.32235872],\n",
       "       [0.31597052],\n",
       "       [0.3041769 ],\n",
       "       [0.32481572],\n",
       "       [0.35823096],\n",
       "       [0.3992629 ],\n",
       "       [0.47567568],\n",
       "       [0.48796069],\n",
       "       [0.51941032],\n",
       "       [0.53931204],\n",
       "       [0.55749386],\n",
       "       [0.56339066],\n",
       "       [0.56756757],\n",
       "       [0.595086  ],\n",
       "       [0.62137592],\n",
       "       [0.6004914 ],\n",
       "       [0.6022113 ],\n",
       "       [0.65085995],\n",
       "       [0.82555283],\n",
       "       [0.7987715 ],\n",
       "       [0.88034398],\n",
       "       [1.        ],\n",
       "       [0.91056511],\n",
       "       [0.76781327],\n",
       "       [0.7014742 ],\n",
       "       [0.73046683]])"
      ]
     },
     "execution_count": 78,
     "metadata": {},
     "output_type": "execute_result"
    }
   ],
   "source": [
    "from sklearn.preprocessing import MinMaxScaler\n",
    "scaler = MinMaxScaler(feature_range = (0,1))\n",
    "df_sc = scaler.fit_transform(np.array(df2).reshape(-1,1))\n",
    "df_sc"
   ]
  },
  {
   "cell_type": "code",
   "execution_count": 103,
   "id": "814ced66",
   "metadata": {},
   "outputs": [
    {
     "data": {
      "text/plain": [
       "(355, 1)"
      ]
     },
     "execution_count": 103,
     "metadata": {},
     "output_type": "execute_result"
    }
   ],
   "source": [
    "df_sc.shape"
   ]
  },
  {
   "cell_type": "code",
   "execution_count": 92,
   "id": "a36d7102",
   "metadata": {},
   "outputs": [],
   "source": [
    "train_size = int(len(df_sc)*0.75)\n",
    "test_size = len(df_sc)-train_size\n",
    "train_data, test_data = df_sc[0:train_size,:],df_sc[train_size:len(df_sc),:1]"
   ]
  },
  {
   "cell_type": "code",
   "execution_count": 93,
   "id": "5d705fa6",
   "metadata": {},
   "outputs": [
    {
     "data": {
      "text/plain": [
       "(266, 1)"
      ]
     },
     "execution_count": 93,
     "metadata": {},
     "output_type": "execute_result"
    }
   ],
   "source": [
    "train_data.shape"
   ]
  },
  {
   "cell_type": "code",
   "execution_count": 94,
   "id": "461be058",
   "metadata": {},
   "outputs": [
    {
     "data": {
      "text/plain": [
       "(89, 1)"
      ]
     },
     "execution_count": 94,
     "metadata": {},
     "output_type": "execute_result"
    }
   ],
   "source": [
    "test_data.shape"
   ]
  },
  {
   "cell_type": "code",
   "execution_count": 95,
   "id": "4d500a16",
   "metadata": {},
   "outputs": [],
   "source": [
    "def get_data(data, steps):\n",
    "    dataX = []\n",
    "    dataY = []\n",
    "    for i in range(len(data)-steps-1):\n",
    "        a = data[i:(i+steps), 0]\n",
    "        dataX.append(a)\n",
    "        dataY.append(data[i+steps, 0])\n",
    "    return np.array(dataX), np.array(dataY)"
   ]
  },
  {
   "cell_type": "markdown",
   "id": "895803be",
   "metadata": {},
   "source": [
    "Buradaki steps son kaç değere bakılacağı. Bu tahminde son 24 ay kullanılacak"
   ]
  },
  {
   "cell_type": "code",
   "execution_count": 96,
   "id": "c60d55c0",
   "metadata": {},
   "outputs": [],
   "source": [
    "steps = 24\n",
    "X_train, y_train = get_data(train_data, steps)\n",
    "X_test, y_test = get_data(test_data, steps)"
   ]
  },
  {
   "cell_type": "code",
   "execution_count": 97,
   "id": "383c1375",
   "metadata": {},
   "outputs": [
    {
     "name": "stdout",
     "output_type": "stream",
     "text": [
      "(241, 24)\n",
      "(241,)\n"
     ]
    }
   ],
   "source": [
    "print(X_train.shape)\n",
    "print(y_train.shape)"
   ]
  },
  {
   "cell_type": "code",
   "execution_count": 98,
   "id": "fee761a0",
   "metadata": {},
   "outputs": [
    {
     "name": "stdout",
     "output_type": "stream",
     "text": [
      "(64, 24)\n",
      "(64,)\n"
     ]
    }
   ],
   "source": [
    "print(X_test.shape)\n",
    "print(y_test.shape)"
   ]
  },
  {
   "cell_type": "markdown",
   "id": "ab712b98",
   "metadata": {},
   "source": [
    "## LSTM"
   ]
  },
  {
   "cell_type": "code",
   "execution_count": 87,
   "id": "a9dcef08",
   "metadata": {},
   "outputs": [],
   "source": [
    "from tensorflow.keras.models import Sequential\n",
    "from tensorflow.keras.layers import Dense, LSTM"
   ]
  },
  {
   "cell_type": "markdown",
   "id": "bcdd9660",
   "metadata": {},
   "source": [
    "LSTM'e uydurmak için reshape yapıyorum"
   ]
  },
  {
   "cell_type": "code",
   "execution_count": 99,
   "id": "47bb07a6",
   "metadata": {},
   "outputs": [],
   "source": [
    "X_train = np.reshape(X_train, (X_train.shape[0], 1 , X_train.shape[1]))\n",
    "X_test = np.reshape(X_test, (X_test.shape[0], 1 , X_test.shape[1]))"
   ]
  },
  {
   "cell_type": "code",
   "execution_count": 104,
   "id": "ebdcc225",
   "metadata": {},
   "outputs": [
    {
     "data": {
      "text/plain": [
       "(241, 1, 24)"
      ]
     },
     "execution_count": 104,
     "metadata": {},
     "output_type": "execute_result"
    }
   ],
   "source": [
    "X_train.shape"
   ]
  },
  {
   "cell_type": "code",
   "execution_count": 105,
   "id": "f406cec3",
   "metadata": {},
   "outputs": [
    {
     "data": {
      "text/plain": [
       "(64, 1, 24)"
      ]
     },
     "execution_count": 105,
     "metadata": {},
     "output_type": "execute_result"
    }
   ],
   "source": [
    "X_test.shape"
   ]
  },
  {
   "cell_type": "markdown",
   "id": "2851d1d3",
   "metadata": {},
   "source": [
    "4 Hidden layeri olan bir model kuruyoruz"
   ]
  },
  {
   "cell_type": "code",
   "execution_count": 116,
   "id": "5d697531",
   "metadata": {},
   "outputs": [],
   "source": [
    "model=Sequential()\n",
    "model.add(LSTM(144,return_sequences=True,input_shape=(1,24)))\n",
    "model.add(LSTM(72,return_sequences=True))\n",
    "model.add(LSTM(48))\n",
    "model.add(Dense(24))\n",
    "model.add(Dense(1))\n",
    "model.compile(loss='mean_squared_error',optimizer='adam')"
   ]
  },
  {
   "cell_type": "code",
   "execution_count": 117,
   "id": "1f700a5c",
   "metadata": {},
   "outputs": [
    {
     "name": "stdout",
     "output_type": "stream",
     "text": [
      "Model: \"sequential_3\"\n",
      "_________________________________________________________________\n",
      " Layer (type)                Output Shape              Param #   \n",
      "=================================================================\n",
      " lstm_9 (LSTM)               (None, 1, 144)            97344     \n",
      "                                                                 \n",
      " lstm_10 (LSTM)              (None, 1, 72)             62496     \n",
      "                                                                 \n",
      " lstm_11 (LSTM)              (None, 48)                23232     \n",
      "                                                                 \n",
      " dense_3 (Dense)             (None, 24)                1176      \n",
      "                                                                 \n",
      " dense_4 (Dense)             (None, 1)                 25        \n",
      "                                                                 \n",
      "=================================================================\n",
      "Total params: 184,273\n",
      "Trainable params: 184,273\n",
      "Non-trainable params: 0\n",
      "_________________________________________________________________\n"
     ]
    }
   ],
   "source": [
    "model.summary()"
   ]
  },
  {
   "cell_type": "code",
   "execution_count": 119,
   "id": "cb87725b",
   "metadata": {},
   "outputs": [
    {
     "name": "stdout",
     "output_type": "stream",
     "text": [
      "Epoch 1/250\n",
      "8/8 [==============================] - 0s 11ms/step - loss: 0.0012 - val_loss: 0.0025\n",
      "Epoch 2/250\n",
      "8/8 [==============================] - 0s 7ms/step - loss: 0.0012 - val_loss: 0.0035\n",
      "Epoch 3/250\n",
      "8/8 [==============================] - 0s 6ms/step - loss: 0.0014 - val_loss: 0.0025\n",
      "Epoch 4/250\n",
      "8/8 [==============================] - 0s 6ms/step - loss: 0.0012 - val_loss: 0.0025\n",
      "Epoch 5/250\n",
      "8/8 [==============================] - 0s 6ms/step - loss: 0.0016 - val_loss: 0.0034\n",
      "Epoch 6/250\n",
      "8/8 [==============================] - 0s 6ms/step - loss: 0.0013 - val_loss: 0.0025\n",
      "Epoch 7/250\n",
      "8/8 [==============================] - 0s 6ms/step - loss: 0.0010 - val_loss: 0.0025\n",
      "Epoch 8/250\n",
      "8/8 [==============================] - 0s 7ms/step - loss: 0.0010 - val_loss: 0.0024\n",
      "Epoch 9/250\n",
      "8/8 [==============================] - 0s 6ms/step - loss: 9.7878e-04 - val_loss: 0.0027\n",
      "Epoch 10/250\n",
      "8/8 [==============================] - 0s 6ms/step - loss: 0.0012 - val_loss: 0.0026\n",
      "Epoch 11/250\n",
      "8/8 [==============================] - 0s 6ms/step - loss: 0.0010 - val_loss: 0.0023\n",
      "Epoch 12/250\n",
      "8/8 [==============================] - 0s 6ms/step - loss: 0.0010 - val_loss: 0.0022\n",
      "Epoch 13/250\n",
      "8/8 [==============================] - 0s 7ms/step - loss: 0.0011 - val_loss: 0.0024\n",
      "Epoch 14/250\n",
      "8/8 [==============================] - 0s 6ms/step - loss: 0.0011 - val_loss: 0.0023\n",
      "Epoch 15/250\n",
      "8/8 [==============================] - 0s 6ms/step - loss: 9.3558e-04 - val_loss: 0.0023\n",
      "Epoch 16/250\n",
      "8/8 [==============================] - 0s 7ms/step - loss: 0.0011 - val_loss: 0.0024\n",
      "Epoch 17/250\n",
      "8/8 [==============================] - 0s 7ms/step - loss: 9.9831e-04 - val_loss: 0.0036\n",
      "Epoch 18/250\n",
      "8/8 [==============================] - 0s 6ms/step - loss: 0.0015 - val_loss: 0.0039\n",
      "Epoch 19/250\n",
      "8/8 [==============================] - 0s 7ms/step - loss: 0.0015 - val_loss: 0.0034\n",
      "Epoch 20/250\n",
      "8/8 [==============================] - 0s 7ms/step - loss: 0.0014 - val_loss: 0.0023\n",
      "Epoch 21/250\n",
      "8/8 [==============================] - 0s 7ms/step - loss: 0.0011 - val_loss: 0.0022\n",
      "Epoch 22/250\n",
      "8/8 [==============================] - 0s 8ms/step - loss: 9.7756e-04 - val_loss: 0.0023\n",
      "Epoch 23/250\n",
      "8/8 [==============================] - 0s 7ms/step - loss: 0.0010 - val_loss: 0.0023\n",
      "Epoch 24/250\n",
      "8/8 [==============================] - 0s 7ms/step - loss: 9.8940e-04 - val_loss: 0.0024\n",
      "Epoch 25/250\n",
      "8/8 [==============================] - 0s 7ms/step - loss: 0.0010 - val_loss: 0.0028\n",
      "Epoch 26/250\n",
      "8/8 [==============================] - 0s 6ms/step - loss: 0.0015 - val_loss: 0.0027\n",
      "Epoch 27/250\n",
      "8/8 [==============================] - 0s 7ms/step - loss: 0.0014 - val_loss: 0.0036\n",
      "Epoch 28/250\n",
      "8/8 [==============================] - 0s 6ms/step - loss: 0.0012 - val_loss: 0.0029\n",
      "Epoch 29/250\n",
      "8/8 [==============================] - 0s 6ms/step - loss: 0.0011 - val_loss: 0.0024\n",
      "Epoch 30/250\n",
      "8/8 [==============================] - 0s 6ms/step - loss: 9.8991e-04 - val_loss: 0.0028\n",
      "Epoch 31/250\n",
      "8/8 [==============================] - 0s 6ms/step - loss: 0.0011 - val_loss: 0.0022\n",
      "Epoch 32/250\n",
      "8/8 [==============================] - 0s 6ms/step - loss: 9.9067e-04 - val_loss: 0.0022\n",
      "Epoch 33/250\n",
      "8/8 [==============================] - 0s 6ms/step - loss: 9.1810e-04 - val_loss: 0.0027\n",
      "Epoch 34/250\n",
      "8/8 [==============================] - 0s 6ms/step - loss: 0.0010 - val_loss: 0.0022\n",
      "Epoch 35/250\n",
      "8/8 [==============================] - 0s 6ms/step - loss: 0.0011 - val_loss: 0.0023\n",
      "Epoch 36/250\n",
      "8/8 [==============================] - 0s 6ms/step - loss: 9.8485e-04 - val_loss: 0.0024\n",
      "Epoch 37/250\n",
      "8/8 [==============================] - 0s 7ms/step - loss: 9.1858e-04 - val_loss: 0.0024\n",
      "Epoch 38/250\n",
      "8/8 [==============================] - 0s 6ms/step - loss: 9.9284e-04 - val_loss: 0.0024\n",
      "Epoch 39/250\n",
      "8/8 [==============================] - 0s 6ms/step - loss: 9.0373e-04 - val_loss: 0.0022\n",
      "Epoch 40/250\n",
      "8/8 [==============================] - 0s 6ms/step - loss: 0.0011 - val_loss: 0.0022\n",
      "Epoch 41/250\n",
      "8/8 [==============================] - 0s 6ms/step - loss: 0.0011 - val_loss: 0.0024\n",
      "Epoch 42/250\n",
      "8/8 [==============================] - 0s 6ms/step - loss: 9.8850e-04 - val_loss: 0.0023\n",
      "Epoch 43/250\n",
      "8/8 [==============================] - 0s 6ms/step - loss: 9.2565e-04 - val_loss: 0.0023\n",
      "Epoch 44/250\n",
      "8/8 [==============================] - 0s 6ms/step - loss: 8.9601e-04 - val_loss: 0.0023\n",
      "Epoch 45/250\n",
      "8/8 [==============================] - 0s 6ms/step - loss: 9.2778e-04 - val_loss: 0.0023\n",
      "Epoch 46/250\n",
      "8/8 [==============================] - 0s 6ms/step - loss: 9.5971e-04 - val_loss: 0.0024\n",
      "Epoch 47/250\n",
      "8/8 [==============================] - 0s 6ms/step - loss: 9.7596e-04 - val_loss: 0.0023\n",
      "Epoch 48/250\n",
      "8/8 [==============================] - 0s 6ms/step - loss: 9.8143e-04 - val_loss: 0.0025\n",
      "Epoch 49/250\n",
      "8/8 [==============================] - 0s 6ms/step - loss: 9.4268e-04 - val_loss: 0.0024\n",
      "Epoch 50/250\n",
      "8/8 [==============================] - 0s 6ms/step - loss: 9.9334e-04 - val_loss: 0.0022\n",
      "Epoch 51/250\n",
      "8/8 [==============================] - 0s 6ms/step - loss: 8.7911e-04 - val_loss: 0.0022\n",
      "Epoch 52/250\n",
      "8/8 [==============================] - 0s 6ms/step - loss: 9.1364e-04 - val_loss: 0.0030\n",
      "Epoch 53/250\n",
      "8/8 [==============================] - 0s 6ms/step - loss: 0.0012 - val_loss: 0.0025\n",
      "Epoch 54/250\n",
      "8/8 [==============================] - 0s 6ms/step - loss: 0.0013 - val_loss: 0.0024\n",
      "Epoch 55/250\n",
      "8/8 [==============================] - 0s 6ms/step - loss: 0.0012 - val_loss: 0.0024\n",
      "Epoch 56/250\n",
      "8/8 [==============================] - 0s 6ms/step - loss: 0.0013 - val_loss: 0.0024\n",
      "Epoch 57/250\n",
      "8/8 [==============================] - 0s 7ms/step - loss: 0.0011 - val_loss: 0.0022\n",
      "Epoch 58/250\n",
      "8/8 [==============================] - 0s 6ms/step - loss: 9.2572e-04 - val_loss: 0.0023\n",
      "Epoch 59/250\n",
      "8/8 [==============================] - 0s 6ms/step - loss: 9.7429e-04 - val_loss: 0.0023\n",
      "Epoch 60/250\n",
      "8/8 [==============================] - 0s 6ms/step - loss: 9.4058e-04 - val_loss: 0.0022\n",
      "Epoch 61/250\n",
      "8/8 [==============================] - 0s 6ms/step - loss: 8.8105e-04 - val_loss: 0.0022\n",
      "Epoch 62/250\n",
      "8/8 [==============================] - 0s 6ms/step - loss: 9.1055e-04 - val_loss: 0.0025\n",
      "Epoch 63/250\n",
      "8/8 [==============================] - 0s 6ms/step - loss: 9.7594e-04 - val_loss: 0.0024\n",
      "Epoch 64/250\n",
      "8/8 [==============================] - 0s 6ms/step - loss: 9.0529e-04 - val_loss: 0.0023\n",
      "Epoch 65/250\n",
      "8/8 [==============================] - 0s 6ms/step - loss: 9.2492e-04 - val_loss: 0.0024\n",
      "Epoch 66/250\n",
      "8/8 [==============================] - 0s 6ms/step - loss: 9.3321e-04 - val_loss: 0.0022\n",
      "Epoch 67/250\n",
      "8/8 [==============================] - 0s 6ms/step - loss: 8.5573e-04 - val_loss: 0.0023\n",
      "Epoch 68/250\n",
      "8/8 [==============================] - 0s 6ms/step - loss: 9.3608e-04 - val_loss: 0.0023\n",
      "Epoch 69/250\n",
      "8/8 [==============================] - 0s 6ms/step - loss: 0.0010 - val_loss: 0.0023\n",
      "Epoch 70/250\n",
      "8/8 [==============================] - 0s 6ms/step - loss: 8.9277e-04 - val_loss: 0.0023\n",
      "Epoch 71/250\n",
      "8/8 [==============================] - 0s 6ms/step - loss: 8.9061e-04 - val_loss: 0.0024\n",
      "Epoch 72/250\n",
      "8/8 [==============================] - 0s 6ms/step - loss: 8.7779e-04 - val_loss: 0.0023\n",
      "Epoch 73/250\n",
      "8/8 [==============================] - 0s 7ms/step - loss: 8.6366e-04 - val_loss: 0.0022\n",
      "Epoch 74/250\n",
      "8/8 [==============================] - 0s 6ms/step - loss: 8.5332e-04 - val_loss: 0.0024\n",
      "Epoch 75/250\n",
      "8/8 [==============================] - 0s 6ms/step - loss: 9.6973e-04 - val_loss: 0.0025\n",
      "Epoch 76/250\n",
      "8/8 [==============================] - 0s 6ms/step - loss: 8.8375e-04 - val_loss: 0.0023\n",
      "Epoch 77/250\n",
      "8/8 [==============================] - 0s 6ms/step - loss: 8.5286e-04 - val_loss: 0.0024\n",
      "Epoch 78/250\n",
      "8/8 [==============================] - 0s 6ms/step - loss: 9.6233e-04 - val_loss: 0.0022\n",
      "Epoch 79/250\n",
      "8/8 [==============================] - 0s 6ms/step - loss: 9.0456e-04 - val_loss: 0.0023\n",
      "Epoch 80/250\n",
      "8/8 [==============================] - 0s 6ms/step - loss: 9.3491e-04 - val_loss: 0.0023\n",
      "Epoch 81/250\n",
      "8/8 [==============================] - 0s 6ms/step - loss: 9.5538e-04 - val_loss: 0.0023\n",
      "Epoch 82/250\n",
      "8/8 [==============================] - 0s 6ms/step - loss: 8.9082e-04 - val_loss: 0.0024\n"
     ]
    },
    {
     "name": "stdout",
     "output_type": "stream",
     "text": [
      "Epoch 83/250\n",
      "8/8 [==============================] - 0s 6ms/step - loss: 8.9817e-04 - val_loss: 0.0025\n",
      "Epoch 84/250\n",
      "8/8 [==============================] - 0s 6ms/step - loss: 9.2699e-04 - val_loss: 0.0023\n",
      "Epoch 85/250\n",
      "8/8 [==============================] - 0s 6ms/step - loss: 0.0010 - val_loss: 0.0027\n",
      "Epoch 86/250\n",
      "8/8 [==============================] - 0s 6ms/step - loss: 9.4525e-04 - val_loss: 0.0026\n",
      "Epoch 87/250\n",
      "8/8 [==============================] - 0s 6ms/step - loss: 8.6596e-04 - val_loss: 0.0023\n",
      "Epoch 88/250\n",
      "8/8 [==============================] - 0s 6ms/step - loss: 8.4967e-04 - val_loss: 0.0023\n",
      "Epoch 89/250\n",
      "8/8 [==============================] - 0s 6ms/step - loss: 8.6300e-04 - val_loss: 0.0023\n",
      "Epoch 90/250\n",
      "8/8 [==============================] - 0s 6ms/step - loss: 8.4304e-04 - val_loss: 0.0026\n",
      "Epoch 91/250\n",
      "8/8 [==============================] - 0s 6ms/step - loss: 8.8487e-04 - val_loss: 0.0024\n",
      "Epoch 92/250\n",
      "8/8 [==============================] - 0s 6ms/step - loss: 8.4223e-04 - val_loss: 0.0027\n",
      "Epoch 93/250\n",
      "8/8 [==============================] - 0s 6ms/step - loss: 8.9113e-04 - val_loss: 0.0027\n",
      "Epoch 94/250\n",
      "8/8 [==============================] - 0s 6ms/step - loss: 9.1177e-04 - val_loss: 0.0025\n",
      "Epoch 95/250\n",
      "8/8 [==============================] - 0s 6ms/step - loss: 8.6571e-04 - val_loss: 0.0025\n",
      "Epoch 96/250\n",
      "8/8 [==============================] - 0s 6ms/step - loss: 8.3642e-04 - val_loss: 0.0033\n",
      "Epoch 97/250\n",
      "8/8 [==============================] - 0s 6ms/step - loss: 0.0011 - val_loss: 0.0024\n",
      "Epoch 98/250\n",
      "8/8 [==============================] - 0s 6ms/step - loss: 0.0010 - val_loss: 0.0027\n",
      "Epoch 99/250\n",
      "8/8 [==============================] - 0s 6ms/step - loss: 9.9736e-04 - val_loss: 0.0025\n",
      "Epoch 100/250\n",
      "8/8 [==============================] - 0s 6ms/step - loss: 9.7007e-04 - val_loss: 0.0024\n",
      "Epoch 101/250\n",
      "8/8 [==============================] - 0s 6ms/step - loss: 9.1046e-04 - val_loss: 0.0025\n",
      "Epoch 102/250\n",
      "8/8 [==============================] - 0s 6ms/step - loss: 8.5099e-04 - val_loss: 0.0025\n",
      "Epoch 103/250\n",
      "8/8 [==============================] - 0s 6ms/step - loss: 8.0192e-04 - val_loss: 0.0023\n",
      "Epoch 104/250\n",
      "8/8 [==============================] - 0s 6ms/step - loss: 8.3336e-04 - val_loss: 0.0022\n",
      "Epoch 105/250\n",
      "8/8 [==============================] - 0s 6ms/step - loss: 8.8145e-04 - val_loss: 0.0023\n",
      "Epoch 106/250\n",
      "8/8 [==============================] - 0s 6ms/step - loss: 8.7673e-04 - val_loss: 0.0026\n",
      "Epoch 107/250\n",
      "8/8 [==============================] - 0s 6ms/step - loss: 0.0010 - val_loss: 0.0026\n",
      "Epoch 108/250\n",
      "8/8 [==============================] - 0s 6ms/step - loss: 8.2727e-04 - val_loss: 0.0024\n",
      "Epoch 109/250\n",
      "8/8 [==============================] - 0s 6ms/step - loss: 8.7191e-04 - val_loss: 0.0023\n",
      "Epoch 110/250\n",
      "8/8 [==============================] - 0s 6ms/step - loss: 8.1793e-04 - val_loss: 0.0024\n",
      "Epoch 111/250\n",
      "8/8 [==============================] - 0s 6ms/step - loss: 8.8238e-04 - val_loss: 0.0027\n",
      "Epoch 112/250\n",
      "8/8 [==============================] - 0s 6ms/step - loss: 9.6365e-04 - val_loss: 0.0027\n",
      "Epoch 113/250\n",
      "8/8 [==============================] - 0s 6ms/step - loss: 0.0010 - val_loss: 0.0024\n",
      "Epoch 114/250\n",
      "8/8 [==============================] - 0s 6ms/step - loss: 8.6377e-04 - val_loss: 0.0025\n",
      "Epoch 115/250\n",
      "8/8 [==============================] - 0s 6ms/step - loss: 8.6509e-04 - val_loss: 0.0024\n",
      "Epoch 116/250\n",
      "8/8 [==============================] - 0s 6ms/step - loss: 8.5863e-04 - val_loss: 0.0023\n",
      "Epoch 117/250\n",
      "8/8 [==============================] - 0s 6ms/step - loss: 8.4723e-04 - val_loss: 0.0025\n",
      "Epoch 118/250\n",
      "8/8 [==============================] - 0s 6ms/step - loss: 8.3539e-04 - val_loss: 0.0026\n",
      "Epoch 119/250\n",
      "8/8 [==============================] - 0s 6ms/step - loss: 9.3435e-04 - val_loss: 0.0026\n",
      "Epoch 120/250\n",
      "8/8 [==============================] - 0s 6ms/step - loss: 9.6808e-04 - val_loss: 0.0026\n",
      "Epoch 121/250\n",
      "8/8 [==============================] - 0s 6ms/step - loss: 8.0829e-04 - val_loss: 0.0024\n",
      "Epoch 122/250\n",
      "8/8 [==============================] - 0s 6ms/step - loss: 9.6597e-04 - val_loss: 0.0031\n",
      "Epoch 123/250\n",
      "8/8 [==============================] - 0s 6ms/step - loss: 0.0011 - val_loss: 0.0027\n",
      "Epoch 124/250\n",
      "8/8 [==============================] - 0s 7ms/step - loss: 0.0010 - val_loss: 0.0027\n",
      "Epoch 125/250\n",
      "8/8 [==============================] - 0s 6ms/step - loss: 0.0012 - val_loss: 0.0026\n",
      "Epoch 126/250\n",
      "8/8 [==============================] - 0s 6ms/step - loss: 0.0014 - val_loss: 0.0028\n",
      "Epoch 127/250\n",
      "8/8 [==============================] - 0s 6ms/step - loss: 0.0012 - val_loss: 0.0027\n",
      "Epoch 128/250\n",
      "8/8 [==============================] - 0s 6ms/step - loss: 0.0013 - val_loss: 0.0030\n",
      "Epoch 129/250\n",
      "8/8 [==============================] - 0s 8ms/step - loss: 0.0012 - val_loss: 0.0023\n",
      "Epoch 130/250\n",
      "8/8 [==============================] - 0s 6ms/step - loss: 0.0013 - val_loss: 0.0026\n",
      "Epoch 131/250\n",
      "8/8 [==============================] - 0s 6ms/step - loss: 0.0011 - val_loss: 0.0029\n",
      "Epoch 132/250\n",
      "8/8 [==============================] - 0s 6ms/step - loss: 0.0012 - val_loss: 0.0026\n",
      "Epoch 133/250\n",
      "8/8 [==============================] - 0s 6ms/step - loss: 0.0011 - val_loss: 0.0025\n",
      "Epoch 134/250\n",
      "8/8 [==============================] - 0s 6ms/step - loss: 9.4761e-04 - val_loss: 0.0025\n",
      "Epoch 135/250\n",
      "8/8 [==============================] - 0s 6ms/step - loss: 9.2364e-04 - val_loss: 0.0025\n",
      "Epoch 136/250\n",
      "8/8 [==============================] - 0s 6ms/step - loss: 9.0030e-04 - val_loss: 0.0025\n",
      "Epoch 137/250\n",
      "8/8 [==============================] - 0s 6ms/step - loss: 7.9439e-04 - val_loss: 0.0025\n",
      "Epoch 138/250\n",
      "8/8 [==============================] - 0s 6ms/step - loss: 9.0045e-04 - val_loss: 0.0023\n",
      "Epoch 139/250\n",
      "8/8 [==============================] - 0s 6ms/step - loss: 8.2881e-04 - val_loss: 0.0024\n",
      "Epoch 140/250\n",
      "8/8 [==============================] - 0s 6ms/step - loss: 7.8201e-04 - val_loss: 0.0025\n",
      "Epoch 141/250\n",
      "8/8 [==============================] - 0s 6ms/step - loss: 8.6402e-04 - val_loss: 0.0024\n",
      "Epoch 142/250\n",
      "8/8 [==============================] - 0s 6ms/step - loss: 8.0074e-04 - val_loss: 0.0024\n",
      "Epoch 143/250\n",
      "8/8 [==============================] - 0s 6ms/step - loss: 8.0580e-04 - val_loss: 0.0024\n",
      "Epoch 144/250\n",
      "8/8 [==============================] - 0s 6ms/step - loss: 9.4685e-04 - val_loss: 0.0025\n",
      "Epoch 145/250\n",
      "8/8 [==============================] - 0s 6ms/step - loss: 0.0010 - val_loss: 0.0032\n",
      "Epoch 146/250\n",
      "8/8 [==============================] - 0s 6ms/step - loss: 0.0010 - val_loss: 0.0027\n",
      "Epoch 147/250\n",
      "8/8 [==============================] - 0s 6ms/step - loss: 0.0011 - val_loss: 0.0032\n",
      "Epoch 148/250\n",
      "8/8 [==============================] - 0s 6ms/step - loss: 0.0011 - val_loss: 0.0030\n",
      "Epoch 149/250\n",
      "8/8 [==============================] - 0s 6ms/step - loss: 8.8044e-04 - val_loss: 0.0024\n",
      "Epoch 150/250\n",
      "8/8 [==============================] - 0s 6ms/step - loss: 8.3692e-04 - val_loss: 0.0024\n",
      "Epoch 151/250\n",
      "8/8 [==============================] - 0s 6ms/step - loss: 8.0253e-04 - val_loss: 0.0024\n",
      "Epoch 152/250\n",
      "8/8 [==============================] - 0s 7ms/step - loss: 7.8788e-04 - val_loss: 0.0025\n",
      "Epoch 153/250\n",
      "8/8 [==============================] - 0s 6ms/step - loss: 8.0943e-04 - val_loss: 0.0025\n",
      "Epoch 154/250\n",
      "8/8 [==============================] - 0s 6ms/step - loss: 8.4122e-04 - val_loss: 0.0025\n",
      "Epoch 155/250\n",
      "8/8 [==============================] - 0s 6ms/step - loss: 0.0010 - val_loss: 0.0026\n",
      "Epoch 156/250\n",
      "8/8 [==============================] - 0s 6ms/step - loss: 9.4871e-04 - val_loss: 0.0024\n",
      "Epoch 157/250\n",
      "8/8 [==============================] - 0s 6ms/step - loss: 8.7381e-04 - val_loss: 0.0027\n",
      "Epoch 158/250\n",
      "8/8 [==============================] - 0s 6ms/step - loss: 0.0011 - val_loss: 0.0037\n",
      "Epoch 159/250\n",
      "8/8 [==============================] - 0s 6ms/step - loss: 0.0011 - val_loss: 0.0025\n",
      "Epoch 160/250\n",
      "8/8 [==============================] - 0s 6ms/step - loss: 7.6176e-04 - val_loss: 0.0028\n",
      "Epoch 161/250\n",
      "8/8 [==============================] - 0s 6ms/step - loss: 9.3100e-04 - val_loss: 0.0031\n",
      "Epoch 162/250\n",
      "8/8 [==============================] - 0s 6ms/step - loss: 9.0218e-04 - val_loss: 0.0031\n",
      "Epoch 163/250\n",
      "8/8 [==============================] - 0s 6ms/step - loss: 9.8051e-04 - val_loss: 0.0026\n",
      "Epoch 164/250\n",
      "8/8 [==============================] - 0s 6ms/step - loss: 8.7209e-04 - val_loss: 0.0026\n",
      "Epoch 165/250\n",
      "8/8 [==============================] - 0s 7ms/step - loss: 9.4803e-04 - val_loss: 0.0026\n",
      "Epoch 166/250\n",
      "8/8 [==============================] - 0s 6ms/step - loss: 9.3961e-04 - val_loss: 0.0027\n",
      "Epoch 167/250\n",
      "8/8 [==============================] - 0s 6ms/step - loss: 8.7481e-04 - val_loss: 0.0030\n",
      "Epoch 168/250\n",
      "8/8 [==============================] - 0s 6ms/step - loss: 9.1203e-04 - val_loss: 0.0028\n",
      "Epoch 169/250\n",
      "8/8 [==============================] - 0s 6ms/step - loss: 9.0733e-04 - val_loss: 0.0027\n",
      "Epoch 170/250\n",
      "8/8 [==============================] - 0s 6ms/step - loss: 8.5101e-04 - val_loss: 0.0027\n",
      "Epoch 171/250\n",
      "8/8 [==============================] - 0s 6ms/step - loss: 8.4722e-04 - val_loss: 0.0025\n",
      "Epoch 172/250\n",
      "8/8 [==============================] - 0s 6ms/step - loss: 7.6881e-04 - val_loss: 0.0026\n",
      "Epoch 173/250\n",
      "8/8 [==============================] - 0s 6ms/step - loss: 8.9652e-04 - val_loss: 0.0027\n",
      "Epoch 174/250\n",
      "8/8 [==============================] - 0s 6ms/step - loss: 8.4263e-04 - val_loss: 0.0029\n",
      "Epoch 175/250\n",
      "8/8 [==============================] - 0s 6ms/step - loss: 9.2315e-04 - val_loss: 0.0026\n",
      "Epoch 176/250\n",
      "8/8 [==============================] - 0s 6ms/step - loss: 8.4032e-04 - val_loss: 0.0026\n",
      "Epoch 177/250\n",
      "8/8 [==============================] - 0s 6ms/step - loss: 8.0660e-04 - val_loss: 0.0024\n",
      "Epoch 178/250\n",
      "8/8 [==============================] - 0s 6ms/step - loss: 8.0064e-04 - val_loss: 0.0025\n",
      "Epoch 179/250\n",
      "8/8 [==============================] - 0s 7ms/step - loss: 7.9972e-04 - val_loss: 0.0024\n",
      "Epoch 180/250\n",
      "8/8 [==============================] - 0s 6ms/step - loss: 8.5686e-04 - val_loss: 0.0030\n",
      "Epoch 181/250\n",
      "8/8 [==============================] - 0s 6ms/step - loss: 9.9630e-04 - val_loss: 0.0032\n",
      "Epoch 182/250\n",
      "8/8 [==============================] - 0s 6ms/step - loss: 0.0013 - val_loss: 0.0044\n",
      "Epoch 183/250\n",
      "8/8 [==============================] - 0s 6ms/step - loss: 0.0016 - val_loss: 0.0035\n",
      "Epoch 184/250\n",
      "8/8 [==============================] - 0s 6ms/step - loss: 9.9139e-04 - val_loss: 0.0025\n",
      "Epoch 185/250\n",
      "8/8 [==============================] - 0s 6ms/step - loss: 9.2033e-04 - val_loss: 0.0024\n",
      "Epoch 186/250\n",
      "8/8 [==============================] - 0s 6ms/step - loss: 8.8832e-04 - val_loss: 0.0025\n",
      "Epoch 187/250\n",
      "8/8 [==============================] - 0s 6ms/step - loss: 8.9814e-04 - val_loss: 0.0026\n",
      "Epoch 188/250\n",
      "8/8 [==============================] - 0s 6ms/step - loss: 8.6911e-04 - val_loss: 0.0029\n",
      "Epoch 189/250\n",
      "8/8 [==============================] - 0s 6ms/step - loss: 0.0010 - val_loss: 0.0027\n",
      "Epoch 190/250\n",
      "8/8 [==============================] - 0s 6ms/step - loss: 0.0011 - val_loss: 0.0030\n",
      "Epoch 191/250\n",
      "8/8 [==============================] - 0s 6ms/step - loss: 0.0015 - val_loss: 0.0036\n",
      "Epoch 192/250\n",
      "8/8 [==============================] - 0s 6ms/step - loss: 0.0012 - val_loss: 0.0028\n",
      "Epoch 193/250\n",
      "8/8 [==============================] - 0s 6ms/step - loss: 0.0010 - val_loss: 0.0030\n",
      "Epoch 194/250\n",
      "8/8 [==============================] - 0s 7ms/step - loss: 9.9243e-04 - val_loss: 0.0029\n",
      "Epoch 195/250\n",
      "8/8 [==============================] - 0s 6ms/step - loss: 0.0011 - val_loss: 0.0045\n",
      "Epoch 196/250\n",
      "8/8 [==============================] - 0s 7ms/step - loss: 0.0013 - val_loss: 0.0041\n",
      "Epoch 197/250\n",
      "8/8 [==============================] - 0s 6ms/step - loss: 0.0011 - val_loss: 0.0026\n",
      "Epoch 198/250\n",
      "8/8 [==============================] - 0s 6ms/step - loss: 7.5236e-04 - val_loss: 0.0027\n",
      "Epoch 199/250\n",
      "8/8 [==============================] - 0s 6ms/step - loss: 9.3645e-04 - val_loss: 0.0034\n",
      "Epoch 200/250\n",
      "8/8 [==============================] - 0s 7ms/step - loss: 9.9971e-04 - val_loss: 0.0036\n",
      "Epoch 201/250\n",
      "8/8 [==============================] - 0s 6ms/step - loss: 0.0012 - val_loss: 0.0038\n",
      "Epoch 202/250\n",
      "8/8 [==============================] - 0s 6ms/step - loss: 0.0013 - val_loss: 0.0028\n",
      "Epoch 203/250\n",
      "8/8 [==============================] - 0s 6ms/step - loss: 8.4613e-04 - val_loss: 0.0027\n",
      "Epoch 204/250\n",
      "8/8 [==============================] - 0s 6ms/step - loss: 8.4749e-04 - val_loss: 0.0024\n",
      "Epoch 205/250\n",
      "8/8 [==============================] - 0s 6ms/step - loss: 7.8266e-04 - val_loss: 0.0025\n",
      "Epoch 206/250\n",
      "8/8 [==============================] - 0s 7ms/step - loss: 8.4785e-04 - val_loss: 0.0029\n",
      "Epoch 207/250\n",
      "8/8 [==============================] - 0s 6ms/step - loss: 8.1457e-04 - val_loss: 0.0027\n",
      "Epoch 208/250\n",
      "8/8 [==============================] - 0s 6ms/step - loss: 9.0040e-04 - val_loss: 0.0026\n",
      "Epoch 209/250\n",
      "8/8 [==============================] - 0s 6ms/step - loss: 0.0010 - val_loss: 0.0027\n",
      "Epoch 210/250\n",
      "8/8 [==============================] - 0s 6ms/step - loss: 8.3836e-04 - val_loss: 0.0027\n",
      "Epoch 211/250\n",
      "8/8 [==============================] - 0s 6ms/step - loss: 8.4686e-04 - val_loss: 0.0027\n",
      "Epoch 212/250\n",
      "8/8 [==============================] - 0s 6ms/step - loss: 8.2660e-04 - val_loss: 0.0026\n",
      "Epoch 213/250\n",
      "8/8 [==============================] - 0s 6ms/step - loss: 8.8417e-04 - val_loss: 0.0025\n",
      "Epoch 214/250\n",
      "8/8 [==============================] - 0s 6ms/step - loss: 8.3381e-04 - val_loss: 0.0026\n",
      "Epoch 215/250\n",
      "8/8 [==============================] - 0s 6ms/step - loss: 8.8342e-04 - val_loss: 0.0026\n",
      "Epoch 216/250\n",
      "8/8 [==============================] - 0s 6ms/step - loss: 8.4289e-04 - val_loss: 0.0027\n",
      "Epoch 217/250\n",
      "8/8 [==============================] - 0s 6ms/step - loss: 7.6339e-04 - val_loss: 0.0026\n",
      "Epoch 218/250\n",
      "8/8 [==============================] - 0s 6ms/step - loss: 8.2083e-04 - val_loss: 0.0027\n",
      "Epoch 219/250\n",
      "8/8 [==============================] - 0s 7ms/step - loss: 8.4835e-04 - val_loss: 0.0026\n",
      "Epoch 220/250\n",
      "8/8 [==============================] - 0s 6ms/step - loss: 8.2620e-04 - val_loss: 0.0025\n",
      "Epoch 221/250\n",
      "8/8 [==============================] - 0s 6ms/step - loss: 7.7598e-04 - val_loss: 0.0027\n",
      "Epoch 222/250\n",
      "8/8 [==============================] - 0s 6ms/step - loss: 8.0290e-04 - val_loss: 0.0028\n",
      "Epoch 223/250\n",
      "8/8 [==============================] - 0s 6ms/step - loss: 8.5304e-04 - val_loss: 0.0027\n",
      "Epoch 224/250\n",
      "8/8 [==============================] - 0s 6ms/step - loss: 8.1438e-04 - val_loss: 0.0027\n",
      "Epoch 225/250\n",
      "8/8 [==============================] - 0s 6ms/step - loss: 8.2103e-04 - val_loss: 0.0025\n",
      "Epoch 226/250\n",
      "8/8 [==============================] - 0s 7ms/step - loss: 8.6463e-04 - val_loss: 0.0026\n",
      "Epoch 227/250\n",
      "8/8 [==============================] - 0s 6ms/step - loss: 0.0010 - val_loss: 0.0026\n",
      "Epoch 228/250\n",
      "8/8 [==============================] - 0s 6ms/step - loss: 8.7382e-04 - val_loss: 0.0026\n",
      "Epoch 229/250\n",
      "8/8 [==============================] - 0s 6ms/step - loss: 9.3459e-04 - val_loss: 0.0026\n",
      "Epoch 230/250\n",
      "8/8 [==============================] - 0s 6ms/step - loss: 0.0010 - val_loss: 0.0028\n",
      "Epoch 231/250\n",
      "8/8 [==============================] - 0s 7ms/step - loss: 8.0095e-04 - val_loss: 0.0027\n",
      "Epoch 232/250\n",
      "8/8 [==============================] - 0s 6ms/step - loss: 8.1507e-04 - val_loss: 0.0028\n",
      "Epoch 233/250\n",
      "8/8 [==============================] - 0s 6ms/step - loss: 7.6059e-04 - val_loss: 0.0029\n",
      "Epoch 234/250\n",
      "8/8 [==============================] - 0s 6ms/step - loss: 9.7787e-04 - val_loss: 0.0035\n",
      "Epoch 235/250\n",
      "8/8 [==============================] - 0s 6ms/step - loss: 0.0011 - val_loss: 0.0031\n",
      "Epoch 236/250\n",
      "8/8 [==============================] - 0s 6ms/step - loss: 8.9855e-04 - val_loss: 0.0031\n",
      "Epoch 237/250\n",
      "8/8 [==============================] - 0s 6ms/step - loss: 9.6290e-04 - val_loss: 0.0030\n",
      "Epoch 238/250\n",
      "8/8 [==============================] - 0s 6ms/step - loss: 8.7156e-04 - val_loss: 0.0031\n",
      "Epoch 239/250\n",
      "8/8 [==============================] - 0s 6ms/step - loss: 8.5224e-04 - val_loss: 0.0026\n",
      "Epoch 240/250\n",
      "8/8 [==============================] - 0s 6ms/step - loss: 7.6324e-04 - val_loss: 0.0026\n",
      "Epoch 241/250\n",
      "8/8 [==============================] - 0s 8ms/step - loss: 7.4236e-04 - val_loss: 0.0026\n",
      "Epoch 242/250\n",
      "8/8 [==============================] - 0s 6ms/step - loss: 7.4598e-04 - val_loss: 0.0026\n",
      "Epoch 243/250\n"
     ]
    },
    {
     "name": "stdout",
     "output_type": "stream",
     "text": [
      "8/8 [==============================] - 0s 6ms/step - loss: 8.1425e-04 - val_loss: 0.0031\n",
      "Epoch 244/250\n",
      "8/8 [==============================] - 0s 6ms/step - loss: 8.9730e-04 - val_loss: 0.0028\n",
      "Epoch 245/250\n",
      "8/8 [==============================] - 0s 6ms/step - loss: 7.7859e-04 - val_loss: 0.0027\n",
      "Epoch 246/250\n",
      "8/8 [==============================] - 0s 6ms/step - loss: 7.4308e-04 - val_loss: 0.0026\n",
      "Epoch 247/250\n",
      "8/8 [==============================] - 0s 6ms/step - loss: 7.2653e-04 - val_loss: 0.0029\n",
      "Epoch 248/250\n",
      "8/8 [==============================] - 0s 6ms/step - loss: 8.1818e-04 - val_loss: 0.0030\n",
      "Epoch 249/250\n",
      "8/8 [==============================] - 0s 6ms/step - loss: 7.8294e-04 - val_loss: 0.0026\n",
      "Epoch 250/250\n",
      "8/8 [==============================] - 0s 6ms/step - loss: 8.0097e-04 - val_loss: 0.0028\n"
     ]
    },
    {
     "data": {
      "text/plain": [
       "<keras.callbacks.History at 0x19cd3fb4f10>"
      ]
     },
     "execution_count": 119,
     "metadata": {},
     "output_type": "execute_result"
    }
   ],
   "source": [
    "model.fit(X_train, y_train ,validation_data=(X_test,y_test), epochs=250, verbose=1)"
   ]
  },
  {
   "cell_type": "code",
   "execution_count": 120,
   "id": "604ed77f",
   "metadata": {},
   "outputs": [
    {
     "name": "stdout",
     "output_type": "stream",
     "text": [
      "8/8 [==============================] - 1s 2ms/step\n",
      "2/2 [==============================] - 0s 2ms/step\n"
     ]
    }
   ],
   "source": [
    "train_predict = model.predict(X_train)\n",
    "test_predict = model.predict(X_test)"
   ]
  },
  {
   "cell_type": "markdown",
   "id": "d97c51b5",
   "metadata": {},
   "source": [
    "Scale işlemini geri alıyorum"
   ]
  },
  {
   "cell_type": "code",
   "execution_count": 121,
   "id": "89a93000",
   "metadata": {},
   "outputs": [],
   "source": [
    "train_predict = scaler.inverse_transform(train_predict)\n",
    "test_predict = scaler.inverse_transform(test_predict)"
   ]
  },
  {
   "cell_type": "code",
   "execution_count": 133,
   "id": "92d39fc8",
   "metadata": {},
   "outputs": [],
   "source": [
    "look_back=24\n",
    "trainPredictPlot = np.empty_like(df_sc)\n",
    "trainPredictPlot[:, :] = np.nan\n",
    "trainPredictPlot[look_back:len(train_predict)+look_back, :] = train_predict\n",
    "\n",
    "testPredictPlot = np.empty_like(df_sc)\n",
    "testPredictPlot[:, :] = np.nan\n",
    "testPredictPlot[len(train_predict)+(look_back*2)+1:len(df_sc)-1, :] = test_predict"
   ]
  },
  {
   "cell_type": "code",
   "execution_count": 150,
   "id": "032497b7",
   "metadata": {},
   "outputs": [
    {
     "data": {
      "image/png": "[encoded data removed]",
      "text/plain": [
       "<Figure size 1080x432 with 1 Axes>"
      ]
     },
     "metadata": {
      "needs_background": "light"
     },
     "output_type": "display_data"
    }
   ],
   "source": [
    "plt.figure(figsize = (15,6))\n",
    "plt.plot(scaler.inverse_transform(df_sc))\n",
    "plt.plot(trainPredictPlot)\n",
    "plt.plot(testPredictPlot)\n",
    "plt.legend([\"Gerçek Veriler\",\"Train Seti Tahmini\",\"Test Seti Tahmini\"])\n",
    "plt.xlabel(\"Aylar\")\n",
    "plt.ylabel(\"1 Galon Benzin Fiyatı($)\")\n",
    "plt.xticks(ticks = [0, 50, 100, 150, 200, 250, 300, 350], \n",
    "           labels = [\"1993,Apr\", \"1997,Jun\", \"2001,Aug\", \"2005,Oct\", \"2009,Dec\", \"2014,Feb\", \"2018,Apr\", \"2022,Jun\"])\n",
    "plt.show()"
   ]
  },
  {
   "cell_type": "code",
   "execution_count": 164,
   "id": "6e19b30e",
   "metadata": {},
   "outputs": [
    {
     "data": {
      "text/html": [
       "<div>\n",
       "<style scoped>\n",
       "    .dataframe tbody tr th:only-of-type {\n",
       "        vertical-align: middle;\n",
       "    }\n",
       "\n",
       "    .dataframe tbody tr th {\n",
       "        vertical-align: top;\n",
       "    }\n",
       "\n",
       "    .dataframe thead th {\n",
       "        text-align: right;\n",
       "    }\n",
       "</style>\n",
       "<table border=\"1\" class=\"dataframe\">\n",
       "  <thead>\n",
       "    <tr style=\"text-align: right;\">\n",
       "      <th></th>\n",
       "      <th>Date</th>\n",
       "      <th>Prediction</th>\n",
       "    </tr>\n",
       "  </thead>\n",
       "  <tbody>\n",
       "    <tr>\n",
       "      <th>0</th>\n",
       "      <td>1/11/2022</td>\n",
       "      <td>NaN</td>\n",
       "    </tr>\n",
       "    <tr>\n",
       "      <th>1</th>\n",
       "      <td>1/12/2022</td>\n",
       "      <td>NaN</td>\n",
       "    </tr>\n",
       "    <tr>\n",
       "      <th>2</th>\n",
       "      <td>1/1/2023</td>\n",
       "      <td>NaN</td>\n",
       "    </tr>\n",
       "    <tr>\n",
       "      <th>3</th>\n",
       "      <td>1/2/2023</td>\n",
       "      <td>NaN</td>\n",
       "    </tr>\n",
       "    <tr>\n",
       "      <th>4</th>\n",
       "      <td>1/3/2023</td>\n",
       "      <td>NaN</td>\n",
       "    </tr>\n",
       "  </tbody>\n",
       "</table>\n",
       "</div>"
      ],
      "text/plain": [
       "        Date  Prediction\n",
       "0  1/11/2022         NaN\n",
       "1  1/12/2022         NaN\n",
       "2   1/1/2023         NaN\n",
       "3   1/2/2023         NaN\n",
       "4   1/3/2023         NaN"
      ]
     },
     "execution_count": 164,
     "metadata": {},
     "output_type": "execute_result"
    }
   ],
   "source": [
    "df_test=pd.read_csv(\"test_data.csv\")\n",
    "df_test.head()"
   ]
  },
  {
   "cell_type": "markdown",
   "id": "88dd5aee",
   "metadata": {},
   "source": [
    "#### df_test için değerler bulunacak"
   ]
  },
  {
   "cell_type": "markdown",
   "id": "6659e7f0",
   "metadata": {},
   "source": [
    "Modeli Kaydediyorum"
   ]
  },
  {
   "cell_type": "code",
   "execution_count": 153,
   "id": "6659d29d",
   "metadata": {},
   "outputs": [
    {
     "name": "stderr",
     "output_type": "stream",
     "text": [
      "WARNING:absl:Found untraced functions such as lstm_cell_9_layer_call_fn, lstm_cell_9_layer_call_and_return_conditional_losses, lstm_cell_10_layer_call_fn, lstm_cell_10_layer_call_and_return_conditional_losses, lstm_cell_11_layer_call_fn while saving (showing 5 of 6). These functions will not be directly callable after loading.\n"
     ]
    },
    {
     "name": "stdout",
     "output_type": "stream",
     "text": [
      "INFO:tensorflow:Assets written to: prtrol price prediction\\assets\n"
     ]
    },
    {
     "name": "stderr",
     "output_type": "stream",
     "text": [
      "INFO:tensorflow:Assets written to: prtrol price prediction\\assets\n"
     ]
    }
   ],
   "source": [
    "model.save(\"petrol price prediction\")"
   ]
  },
  {
   "cell_type": "markdown",
   "id": "b3e47476",
   "metadata": {},
   "source": [
    "# ARIMA"
   ]
  },
  {
   "cell_type": "code",
   "execution_count": 155,
   "id": "14a36445",
   "metadata": {},
   "outputs": [
    {
     "name": "stdout",
     "output_type": "stream",
     "text": [
      "Requirement already satisfied: patsy in c:\\anaconda\\lib\\site-packages (0.5.2)\n",
      "Collecting patsy\n",
      "  Downloading patsy-0.5.3-py2.py3-none-any.whl (233 kB)\n",
      "Requirement already satisfied: numpy>=1.4 in c:\\anaconda\\lib\\site-packages (from patsy) (1.21.5)\n",
      "Requirement already satisfied: six in c:\\anaconda\\lib\\site-packages (from patsy) (1.16.0)\n",
      "Installing collected packages: patsy\n",
      "  Attempting uninstall: patsy\n",
      "    Found existing installation: patsy 0.5.2\n",
      "    Uninstalling patsy-0.5.2:\n",
      "      Successfully uninstalled patsy-0.5.2\n",
      "Successfully installed patsy-0.5.3\n"
     ]
    }
   ],
   "source": [
    "!pip install --upgrade patsy"
   ]
  },
  {
   "cell_type": "code",
   "execution_count": 156,
   "id": "de58afdb",
   "metadata": {},
   "outputs": [
    {
     "name": "stdout",
     "output_type": "stream",
     "text": [
      "Requirement already satisfied: statsmodels in c:\\anaconda\\lib\\site-packages (0.13.2)\n",
      "Collecting statsmodels\n",
      "  Downloading statsmodels-0.13.5-cp39-cp39-win_amd64.whl (9.2 MB)\n",
      "Installing collected packages: statsmodels\n",
      "  Attempting uninstall: statsmodels\n",
      "    Found existing installation: statsmodels 0.13.2\n",
      "    Uninstalling statsmodels-0.13.2:\n",
      "      Successfully uninstalled statsmodels-0.13.2\n",
      "Successfully installed statsmodels-0.13.5\n"
     ]
    }
   ],
   "source": [
    "!pip install --upgrade --no-deps statsmodels"
   ]
  },
  {
   "cell_type": "code",
   "execution_count": 157,
   "id": "081ed4a8",
   "metadata": {},
   "outputs": [],
   "source": [
    "from statsmodels.tsa.arima.model import ARIMA"
   ]
  },
  {
   "cell_type": "code",
   "execution_count": 159,
   "id": "334d4c5d",
   "metadata": {},
   "outputs": [
    {
     "data": {
      "text/plain": [
       "0      1.078\n",
       "1      1.100\n",
       "2      1.097\n",
       "3      1.078\n",
       "4      1.062\n",
       "       ...  \n",
       "350    5.032\n",
       "351    4.668\n",
       "352    4.087\n",
       "353    3.817\n",
       "354    3.935\n",
       "Name: Petrol Fiyatı, Length: 355, dtype: float64"
      ]
     },
     "execution_count": 159,
     "metadata": {},
     "output_type": "execute_result"
    }
   ],
   "source": [
    "df2"
   ]
  },
  {
   "cell_type": "code",
   "execution_count": 165,
   "id": "0016c404",
   "metadata": {},
   "outputs": [
    {
     "data": {
      "text/plain": [
       "array([3.98635099, 4.03880373, 4.14111905, 4.21892862, 4.21899702,\n",
       "       4.19466734, 4.17474261, 4.15476798, 4.13776579, 4.13359963,\n",
       "       4.1387502 , 4.14514953, 4.15020466, 4.15384955, 4.155181  ,\n",
       "       4.15429905, 4.15263106, 4.15124123, 4.15036889, 4.15003865,\n",
       "       4.15019317, 4.15058727, 4.15095554, 4.15118314, 4.15126584,\n",
       "       4.15123495])"
      ]
     },
     "execution_count": 165,
     "metadata": {},
     "output_type": "execute_result"
    }
   ],
   "source": [
    "model1 = ARIMA(df2.values, order=(5,1,0))\n",
    "model_fit1 = model1.fit()\n",
    "output1= model_fit1.forecast(steps=26)\n",
    "output1"
   ]
  },
  {
   "cell_type": "code",
   "execution_count": 162,
   "id": "62119708",
   "metadata": {},
   "outputs": [
    {
     "data": {
      "text/html": [
       "<div>\n",
       "<style scoped>\n",
       "    .dataframe tbody tr th:only-of-type {\n",
       "        vertical-align: middle;\n",
       "    }\n",
       "\n",
       "    .dataframe tbody tr th {\n",
       "        vertical-align: top;\n",
       "    }\n",
       "\n",
       "    .dataframe thead th {\n",
       "        text-align: right;\n",
       "    }\n",
       "</style>\n",
       "<table border=\"1\" class=\"dataframe\">\n",
       "  <thead>\n",
       "    <tr style=\"text-align: right;\">\n",
       "      <th></th>\n",
       "      <th>Date</th>\n",
       "      <th>Prediction</th>\n",
       "    </tr>\n",
       "  </thead>\n",
       "  <tbody>\n",
       "    <tr>\n",
       "      <th>0</th>\n",
       "      <td>1/11/2022</td>\n",
       "      <td>NaN</td>\n",
       "    </tr>\n",
       "    <tr>\n",
       "      <th>1</th>\n",
       "      <td>1/12/2022</td>\n",
       "      <td>NaN</td>\n",
       "    </tr>\n",
       "    <tr>\n",
       "      <th>2</th>\n",
       "      <td>1/1/2023</td>\n",
       "      <td>NaN</td>\n",
       "    </tr>\n",
       "    <tr>\n",
       "      <th>3</th>\n",
       "      <td>1/2/2023</td>\n",
       "      <td>NaN</td>\n",
       "    </tr>\n",
       "    <tr>\n",
       "      <th>4</th>\n",
       "      <td>1/3/2023</td>\n",
       "      <td>NaN</td>\n",
       "    </tr>\n",
       "  </tbody>\n",
       "</table>\n",
       "</div>"
      ],
      "text/plain": [
       "        Date  Prediction\n",
       "0  1/11/2022         NaN\n",
       "1  1/12/2022         NaN\n",
       "2   1/1/2023         NaN\n",
       "3   1/2/2023         NaN\n",
       "4   1/3/2023         NaN"
      ]
     },
     "execution_count": 162,
     "metadata": {},
     "output_type": "execute_result"
    }
   ],
   "source": [
    "df_test=pd.read_csv(\"test_data.csv\")\n",
    "df_test.head()"
   ]
  },
  {
   "cell_type": "code",
   "execution_count": 168,
   "id": "9197643a",
   "metadata": {},
   "outputs": [
    {
     "data": {
      "text/html": [
       "<div>\n",
       "<style scoped>\n",
       "    .dataframe tbody tr th:only-of-type {\n",
       "        vertical-align: middle;\n",
       "    }\n",
       "\n",
       "    .dataframe tbody tr th {\n",
       "        vertical-align: top;\n",
       "    }\n",
       "\n",
       "    .dataframe thead th {\n",
       "        text-align: right;\n",
       "    }\n",
       "</style>\n",
       "<table border=\"1\" class=\"dataframe\">\n",
       "  <thead>\n",
       "    <tr style=\"text-align: right;\">\n",
       "      <th></th>\n",
       "      <th>Date</th>\n",
       "      <th>Prediction</th>\n",
       "    </tr>\n",
       "  </thead>\n",
       "  <tbody>\n",
       "    <tr>\n",
       "      <th>0</th>\n",
       "      <td>1/11/2022</td>\n",
       "      <td>3.986351</td>\n",
       "    </tr>\n",
       "    <tr>\n",
       "      <th>1</th>\n",
       "      <td>1/12/2022</td>\n",
       "      <td>4.038804</td>\n",
       "    </tr>\n",
       "    <tr>\n",
       "      <th>2</th>\n",
       "      <td>1/1/2023</td>\n",
       "      <td>4.141119</td>\n",
       "    </tr>\n",
       "    <tr>\n",
       "      <th>3</th>\n",
       "      <td>1/2/2023</td>\n",
       "      <td>4.218929</td>\n",
       "    </tr>\n",
       "    <tr>\n",
       "      <th>4</th>\n",
       "      <td>1/3/2023</td>\n",
       "      <td>4.218997</td>\n",
       "    </tr>\n",
       "  </tbody>\n",
       "</table>\n",
       "</div>"
      ],
      "text/plain": [
       "        Date  Prediction\n",
       "0  1/11/2022    3.986351\n",
       "1  1/12/2022    4.038804\n",
       "2   1/1/2023    4.141119\n",
       "3   1/2/2023    4.218929\n",
       "4   1/3/2023    4.218997"
      ]
     },
     "execution_count": 168,
     "metadata": {},
     "output_type": "execute_result"
    }
   ],
   "source": [
    "df_test[\"Prediction\"] = output1\n",
    "df_test.head()"
   ]
  },
  {
   "cell_type": "code",
   "execution_count": 171,
   "id": "158b27bc",
   "metadata": {},
   "outputs": [
    {
     "data": {
      "image/png": "[encoded data removed]",
      "text/plain": [
       "<Figure size 1080x432 with 1 Axes>"
      ]
     },
     "metadata": {
      "needs_background": "light"
     },
     "output_type": "display_data"
    }
   ],
   "source": [
    "plt.figure(figsize = (15,6))\n",
    "plt.plot(df_test[\"Date\"],df_test[\"Prediction\"])\n",
    "plt.xticks(rotation=50)\n",
    "plt.show()"
   ]
  },
  {
   "cell_type": "markdown",
   "id": "88ad5d5b",
   "metadata": {},
   "source": [
    "# Auto Keras"
   ]
  },
  {
   "cell_type": "code",
   "execution_count": 173,
   "id": "64bb7585",
   "metadata": {
    "collapsed": true
   },
   "outputs": [
    {
     "name": "stdout",
     "output_type": "stream",
     "text": [
      "Collecting git+https://github.com/keras-team/keras-tuner.git@1.0.2rc1\n",
      "  Cloning https://github.com/keras-team/keras-tuner.git (to revision 1.0.2rc1) to c:\\users\\ogn_1\\appdata\\local\\temp\\pip-req-build-wcm1duwd\n",
      "  Resolved https://github.com/keras-team/keras-tuner.git to commit 0fb69434a132093518e0e53d40020145ae192629\n",
      "Requirement already satisfied: packaging in c:\\anaconda\\lib\\site-packages (from keras-tuner==1.0.2rc1) (21.3)\n",
      "Requirement already satisfied: future in c:\\anaconda\\lib\\site-packages (from keras-tuner==1.0.2rc1) (0.18.2)\n",
      "Requirement already satisfied: numpy in c:\\anaconda\\lib\\site-packages (from keras-tuner==1.0.2rc1) (1.21.5)\n",
      "Requirement already satisfied: tabulate in c:\\anaconda\\lib\\site-packages (from keras-tuner==1.0.2rc1) (0.8.9)\n",
      "Collecting terminaltables\n",
      "  Downloading terminaltables-3.1.10-py2.py3-none-any.whl (15 kB)\n",
      "Requirement already satisfied: colorama in c:\\anaconda\\lib\\site-packages (from keras-tuner==1.0.2rc1) (0.4.4)\n",
      "Requirement already satisfied: tqdm in c:\\anaconda\\lib\\site-packages (from keras-tuner==1.0.2rc1) (4.64.0)\n",
      "Requirement already satisfied: requests in c:\\anaconda\\lib\\site-packages (from keras-tuner==1.0.2rc1) (2.27.1)\n",
      "Requirement already satisfied: scipy in c:\\anaconda\\lib\\site-packages (from keras-tuner==1.0.2rc1) (1.7.3)\n",
      "Requirement already satisfied: scikit-learn in c:\\anaconda\\lib\\site-packages (from keras-tuner==1.0.2rc1) (1.0.2)\n",
      "Requirement already satisfied: pyparsing!=3.0.5,>=2.0.2 in c:\\anaconda\\lib\\site-packages (from packaging->keras-tuner==1.0.2rc1) (3.0.4)\n",
      "Requirement already satisfied: charset-normalizer~=2.0.0 in c:\\anaconda\\lib\\site-packages (from requests->keras-tuner==1.0.2rc1) (2.0.4)\n",
      "Requirement already satisfied: idna<4,>=2.5 in c:\\anaconda\\lib\\site-packages (from requests->keras-tuner==1.0.2rc1) (3.3)\n",
      "Requirement already satisfied: certifi>=2017.4.17 in c:\\anaconda\\lib\\site-packages (from requests->keras-tuner==1.0.2rc1) (2021.10.8)\n",
      "Requirement already satisfied: urllib3<1.27,>=1.21.1 in c:\\anaconda\\lib\\site-packages (from requests->keras-tuner==1.0.2rc1) (1.26.9)\n",
      "Requirement already satisfied: joblib>=0.11 in c:\\anaconda\\lib\\site-packages (from scikit-learn->keras-tuner==1.0.2rc1) (1.1.0)\n",
      "Requirement already satisfied: threadpoolctl>=2.0.0 in c:\\anaconda\\lib\\site-packages (from scikit-learn->keras-tuner==1.0.2rc1) (2.2.0)\n",
      "Building wheels for collected packages: keras-tuner\n",
      "  Building wheel for keras-tuner (setup.py): started\n",
      "  Building wheel for keras-tuner (setup.py): finished with status 'done'\n",
      "  Created wheel for keras-tuner: filename=keras_tuner-1.0.2rc1-py3-none-any.whl size=86074 sha256=f20745dffdc87dba550a8d95ab17f89feac55d64f887fc87f9fa84038111524f\n",
      "  Stored in directory: C:\\Users\\ogn_1\\AppData\\Local\\Temp\\pip-ephem-wheel-cache-fn47a2ey\\wheels\\09\\45\\88\\7fa744f0be0acc5be797cd02899455d419c94645f428e79d15\n",
      "Successfully built keras-tuner\n",
      "Installing collected packages: terminaltables, keras-tuner\n",
      "Successfully installed keras-tuner-1.0.2rc1 terminaltables-3.1.10\n"
     ]
    },
    {
     "name": "stderr",
     "output_type": "stream",
     "text": [
      "  Running command git clone -q https://github.com/keras-team/keras-tuner.git 'C:\\Users\\ogn_1\\AppData\\Local\\Temp\\pip-req-build-wcm1duwd'\n",
      "  Running command git checkout -q 0fb69434a132093518e0e53d40020145ae192629\n"
     ]
    }
   ],
   "source": [
    "!pip install git+https://github.com/keras-team/keras-tuner.git@1.0.2rc1"
   ]
  },
  {
   "cell_type": "code",
   "execution_count": 174,
   "id": "e94b2a79",
   "metadata": {
    "collapsed": true
   },
   "outputs": [
    {
     "name": "stdout",
     "output_type": "stream",
     "text": [
      "Collecting autokeras\n",
      "  Downloading autokeras-1.0.20-py3-none-any.whl (162 kB)\n",
      "Collecting keras-tuner>=1.1.0\n",
      "  Downloading keras_tuner-1.1.3-py3-none-any.whl (135 kB)\n",
      "Requirement already satisfied: tensorflow>=2.8.0 in c:\\anaconda\\lib\\site-packages (from autokeras) (2.10.0)\n",
      "Requirement already satisfied: packaging in c:\\anaconda\\lib\\site-packages (from autokeras) (21.3)\n",
      "Requirement already satisfied: pandas in c:\\anaconda\\lib\\site-packages (from autokeras) (1.4.2)\n",
      "Requirement already satisfied: numpy in c:\\anaconda\\lib\\site-packages (from keras-tuner>=1.1.0->autokeras) (1.21.5)\n",
      "Requirement already satisfied: ipython in c:\\anaconda\\lib\\site-packages (from keras-tuner>=1.1.0->autokeras) (8.2.0)\n",
      "Collecting kt-legacy\n",
      "  Downloading kt_legacy-1.0.4-py3-none-any.whl (9.6 kB)\n",
      "Requirement already satisfied: tensorboard in c:\\anaconda\\lib\\site-packages (from keras-tuner>=1.1.0->autokeras) (2.10.1)\n",
      "Requirement already satisfied: requests in c:\\anaconda\\lib\\site-packages (from keras-tuner>=1.1.0->autokeras) (2.27.1)\n",
      "Requirement already satisfied: absl-py>=1.0.0 in c:\\anaconda\\lib\\site-packages (from tensorflow>=2.8.0->autokeras) (1.3.0)\n",
      "Requirement already satisfied: six>=1.12.0 in c:\\anaconda\\lib\\site-packages (from tensorflow>=2.8.0->autokeras) (1.16.0)\n",
      "Requirement already satisfied: h5py>=2.9.0 in c:\\anaconda\\lib\\site-packages (from tensorflow>=2.8.0->autokeras) (3.6.0)\n",
      "Requirement already satisfied: wrapt>=1.11.0 in c:\\anaconda\\lib\\site-packages (from tensorflow>=2.8.0->autokeras) (1.12.1)\n",
      "Requirement already satisfied: google-pasta>=0.1.1 in c:\\anaconda\\lib\\site-packages (from tensorflow>=2.8.0->autokeras) (0.2.0)\n",
      "Requirement already satisfied: protobuf<3.20,>=3.9.2 in c:\\anaconda\\lib\\site-packages (from tensorflow>=2.8.0->autokeras) (3.19.1)\n",
      "Requirement already satisfied: flatbuffers>=2.0 in c:\\anaconda\\lib\\site-packages (from tensorflow>=2.8.0->autokeras) (22.10.26)\n",
      "Requirement already satisfied: tensorflow-estimator<2.11,>=2.10.0 in c:\\anaconda\\lib\\site-packages (from tensorflow>=2.8.0->autokeras) (2.10.0)\n",
      "Requirement already satisfied: opt-einsum>=2.3.2 in c:\\anaconda\\lib\\site-packages (from tensorflow>=2.8.0->autokeras) (3.3.0)\n",
      "Requirement already satisfied: libclang>=13.0.0 in c:\\anaconda\\lib\\site-packages (from tensorflow>=2.8.0->autokeras) (14.0.6)\n",
      "Requirement already satisfied: keras<2.11,>=2.10.0 in c:\\anaconda\\lib\\site-packages (from tensorflow>=2.8.0->autokeras) (2.10.0)\n",
      "Requirement already satisfied: gast<=0.4.0,>=0.2.1 in c:\\anaconda\\lib\\site-packages (from tensorflow>=2.8.0->autokeras) (0.4.0)\n",
      "Requirement already satisfied: termcolor>=1.1.0 in c:\\anaconda\\lib\\site-packages (from tensorflow>=2.8.0->autokeras) (2.0.1)\n",
      "Requirement already satisfied: typing-extensions>=3.6.6 in c:\\anaconda\\lib\\site-packages (from tensorflow>=2.8.0->autokeras) (4.1.1)\n",
      "Requirement already satisfied: keras-preprocessing>=1.1.1 in c:\\anaconda\\lib\\site-packages (from tensorflow>=2.8.0->autokeras) (1.1.2)\n",
      "Requirement already satisfied: astunparse>=1.6.0 in c:\\anaconda\\lib\\site-packages (from tensorflow>=2.8.0->autokeras) (1.6.3)\n",
      "Requirement already satisfied: setuptools in c:\\anaconda\\lib\\site-packages (from tensorflow>=2.8.0->autokeras) (61.2.0)\n",
      "Requirement already satisfied: grpcio<2.0,>=1.24.3 in c:\\anaconda\\lib\\site-packages (from tensorflow>=2.8.0->autokeras) (1.42.0)\n",
      "Requirement already satisfied: tensorflow-io-gcs-filesystem>=0.23.1 in c:\\anaconda\\lib\\site-packages (from tensorflow>=2.8.0->autokeras) (0.27.0)\n",
      "Requirement already satisfied: wheel<1.0,>=0.23.0 in c:\\anaconda\\lib\\site-packages (from astunparse>=1.6.0->tensorflow>=2.8.0->autokeras) (0.37.1)\n",
      "Requirement already satisfied: google-auth-oauthlib<0.5,>=0.4.1 in c:\\anaconda\\lib\\site-packages (from tensorboard->keras-tuner>=1.1.0->autokeras) (0.4.6)\n",
      "Requirement already satisfied: tensorboard-data-server<0.7.0,>=0.6.0 in c:\\anaconda\\lib\\site-packages (from tensorboard->keras-tuner>=1.1.0->autokeras) (0.6.1)\n",
      "Requirement already satisfied: werkzeug>=1.0.1 in c:\\anaconda\\lib\\site-packages (from tensorboard->keras-tuner>=1.1.0->autokeras) (2.0.3)\n",
      "Requirement already satisfied: markdown>=2.6.8 in c:\\anaconda\\lib\\site-packages (from tensorboard->keras-tuner>=1.1.0->autokeras) (3.3.4)\n",
      "Requirement already satisfied: google-auth<3,>=1.6.3 in c:\\anaconda\\lib\\site-packages (from tensorboard->keras-tuner>=1.1.0->autokeras) (1.33.0)\n",
      "Requirement already satisfied: tensorboard-plugin-wit>=1.6.0 in c:\\anaconda\\lib\\site-packages (from tensorboard->keras-tuner>=1.1.0->autokeras) (1.8.1)\n",
      "Requirement already satisfied: rsa<5,>=3.1.4 in c:\\anaconda\\lib\\site-packages (from google-auth<3,>=1.6.3->tensorboard->keras-tuner>=1.1.0->autokeras) (4.7.2)\n",
      "Requirement already satisfied: pyasn1-modules>=0.2.1 in c:\\anaconda\\lib\\site-packages (from google-auth<3,>=1.6.3->tensorboard->keras-tuner>=1.1.0->autokeras) (0.2.8)\n",
      "Requirement already satisfied: cachetools<5.0,>=2.0.0 in c:\\anaconda\\lib\\site-packages (from google-auth<3,>=1.6.3->tensorboard->keras-tuner>=1.1.0->autokeras) (4.2.2)\n",
      "Requirement already satisfied: requests-oauthlib>=0.7.0 in c:\\anaconda\\lib\\site-packages (from google-auth-oauthlib<0.5,>=0.4.1->tensorboard->keras-tuner>=1.1.0->autokeras) (1.3.1)\n",
      "Requirement already satisfied: pyasn1<0.5.0,>=0.4.6 in c:\\anaconda\\lib\\site-packages (from pyasn1-modules>=0.2.1->google-auth<3,>=1.6.3->tensorboard->keras-tuner>=1.1.0->autokeras) (0.4.8)\n",
      "Requirement already satisfied: urllib3<1.27,>=1.21.1 in c:\\anaconda\\lib\\site-packages (from requests->keras-tuner>=1.1.0->autokeras) (1.26.9)\n",
      "Requirement already satisfied: charset-normalizer~=2.0.0 in c:\\anaconda\\lib\\site-packages (from requests->keras-tuner>=1.1.0->autokeras) (2.0.4)\n",
      "Requirement already satisfied: idna<4,>=2.5 in c:\\anaconda\\lib\\site-packages (from requests->keras-tuner>=1.1.0->autokeras) (3.3)\n",
      "Requirement already satisfied: certifi>=2017.4.17 in c:\\anaconda\\lib\\site-packages (from requests->keras-tuner>=1.1.0->autokeras) (2021.10.8)\n",
      "Requirement already satisfied: oauthlib>=3.0.0 in c:\\anaconda\\lib\\site-packages (from requests-oauthlib>=0.7.0->google-auth-oauthlib<0.5,>=0.4.1->tensorboard->keras-tuner>=1.1.0->autokeras) (3.2.2)\n",
      "Requirement already satisfied: backcall in c:\\anaconda\\lib\\site-packages (from ipython->keras-tuner>=1.1.0->autokeras) (0.2.0)\n",
      "Requirement already satisfied: decorator in c:\\anaconda\\lib\\site-packages (from ipython->keras-tuner>=1.1.0->autokeras) (5.1.1)\n",
      "Requirement already satisfied: pygments>=2.4.0 in c:\\anaconda\\lib\\site-packages (from ipython->keras-tuner>=1.1.0->autokeras) (2.11.2)\n",
      "Requirement already satisfied: colorama in c:\\anaconda\\lib\\site-packages (from ipython->keras-tuner>=1.1.0->autokeras) (0.4.4)\n",
      "Requirement already satisfied: matplotlib-inline in c:\\anaconda\\lib\\site-packages (from ipython->keras-tuner>=1.1.0->autokeras) (0.1.2)\n",
      "Requirement already satisfied: jedi>=0.16 in c:\\anaconda\\lib\\site-packages (from ipython->keras-tuner>=1.1.0->autokeras) (0.18.1)\n",
      "Requirement already satisfied: stack-data in c:\\anaconda\\lib\\site-packages (from ipython->keras-tuner>=1.1.0->autokeras) (0.2.0)\n",
      "Requirement already satisfied: traitlets>=5 in c:\\anaconda\\lib\\site-packages (from ipython->keras-tuner>=1.1.0->autokeras) (5.1.1)\n",
      "Requirement already satisfied: pickleshare in c:\\anaconda\\lib\\site-packages (from ipython->keras-tuner>=1.1.0->autokeras) (0.7.5)\n",
      "Requirement already satisfied: prompt-toolkit!=3.0.0,!=3.0.1,<3.1.0,>=2.0.0 in c:\\anaconda\\lib\\site-packages (from ipython->keras-tuner>=1.1.0->autokeras) (3.0.20)\n",
      "Requirement already satisfied: parso<0.9.0,>=0.8.0 in c:\\anaconda\\lib\\site-packages (from jedi>=0.16->ipython->keras-tuner>=1.1.0->autokeras) (0.8.3)\n",
      "Requirement already satisfied: wcwidth in c:\\anaconda\\lib\\site-packages (from prompt-toolkit!=3.0.0,!=3.0.1,<3.1.0,>=2.0.0->ipython->keras-tuner>=1.1.0->autokeras) (0.2.5)\n",
      "Requirement already satisfied: pyparsing!=3.0.5,>=2.0.2 in c:\\anaconda\\lib\\site-packages (from packaging->autokeras) (3.0.4)\n",
      "Requirement already satisfied: python-dateutil>=2.8.1 in c:\\anaconda\\lib\\site-packages (from pandas->autokeras) (2.8.2)\n",
      "Requirement already satisfied: pytz>=2020.1 in c:\\anaconda\\lib\\site-packages (from pandas->autokeras) (2021.3)\n",
      "Requirement already satisfied: asttokens in c:\\anaconda\\lib\\site-packages (from stack-data->ipython->keras-tuner>=1.1.0->autokeras) (2.0.5)\n",
      "Requirement already satisfied: pure-eval in c:\\anaconda\\lib\\site-packages (from stack-data->ipython->keras-tuner>=1.1.0->autokeras) (0.2.2)\n",
      "Requirement already satisfied: executing in c:\\anaconda\\lib\\site-packages (from stack-data->ipython->keras-tuner>=1.1.0->autokeras) (0.8.3)\n",
      "Installing collected packages: kt-legacy, keras-tuner, autokeras\n",
      "  Attempting uninstall: keras-tuner\n",
      "    Found existing installation: keras-tuner 1.0.2rc1\n",
      "    Uninstalling keras-tuner-1.0.2rc1:\n",
      "      Successfully uninstalled keras-tuner-1.0.2rc1\n",
      "Successfully installed autokeras-1.0.20 keras-tuner-1.1.3 kt-legacy-1.0.4\n"
     ]
    }
   ],
   "source": [
    "!pip install autokeras"
   ]
  },
  {
   "cell_type": "code",
   "execution_count": 175,
   "id": "08b07cfb",
   "metadata": {},
   "outputs": [
    {
     "name": "stdout",
     "output_type": "stream",
     "text": [
      "Name: autokeras\n",
      "Version: 1.0.20\n",
      "Summary: AutoML for deep learning\n",
      "Home-page: http://autokeras.com\n",
      "Author: DATA Lab, Keras Team\n",
      "Author-email: jhfjhfj1@gmail.com\n",
      "License: Apache License 2.0\n",
      "Location: c:\\anaconda\\lib\\site-packages\n",
      "Requires: keras-tuner, tensorflow, packaging, pandas\n",
      "Required-by: \n"
     ]
    }
   ],
   "source": [
    "!pip show autokeras"
   ]
  },
  {
   "cell_type": "code",
   "execution_count": 176,
   "id": "c1d28263",
   "metadata": {},
   "outputs": [],
   "source": [
    "import tensorflow as tf\n",
    "import autokeras as ak"
   ]
  },
  {
   "cell_type": "code",
   "execution_count": 177,
   "id": "46dee4de",
   "metadata": {},
   "outputs": [],
   "source": [
    "reg = ak.StructuredDataRegressor(overwrite=True, max_trials=3)"
   ]
  },
  {
   "cell_type": "code",
   "execution_count": 179,
   "id": "f64731fa",
   "metadata": {},
   "outputs": [],
   "source": [
    "X_train, y_train = get_data(train_data, steps)\n",
    "X_test, y_test = get_data(test_data, steps)"
   ]
  },
  {
   "cell_type": "code",
   "execution_count": 180,
   "id": "86f8ab11",
   "metadata": {},
   "outputs": [
    {
     "name": "stdout",
     "output_type": "stream",
     "text": [
      "INFO:tensorflow:Oracle triggered exit\n"
     ]
    },
    {
     "name": "stderr",
     "output_type": "stream",
     "text": [
      "INFO:tensorflow:Oracle triggered exit\n"
     ]
    },
    {
     "name": "stdout",
     "output_type": "stream",
     "text": [
      "Epoch 1/19\n",
      "8/8 [==============================] - 1s 1ms/step - loss: 1.6019 - mean_squared_error: 1.6019\n",
      "Epoch 2/19\n",
      "8/8 [==============================] - 0s 2ms/step - loss: 0.5439 - mean_squared_error: 0.5439\n",
      "Epoch 3/19\n",
      "8/8 [==============================] - 0s 1ms/step - loss: 0.2667 - mean_squared_error: 0.2667\n",
      "Epoch 4/19\n",
      "8/8 [==============================] - 0s 1ms/step - loss: 0.2634 - mean_squared_error: 0.2634\n",
      "Epoch 5/19\n",
      "8/8 [==============================] - 0s 1ms/step - loss: 0.2823 - mean_squared_error: 0.2823\n",
      "Epoch 6/19\n",
      "8/8 [==============================] - 0s 2ms/step - loss: 0.1986 - mean_squared_error: 0.1986\n",
      "Epoch 7/19\n",
      "8/8 [==============================] - 0s 1ms/step - loss: 0.1978 - mean_squared_error: 0.1978\n",
      "Epoch 8/19\n",
      "8/8 [==============================] - 0s 2ms/step - loss: 0.2036 - mean_squared_error: 0.2036\n",
      "Epoch 9/19\n",
      "8/8 [==============================] - 0s 1ms/step - loss: 0.1543 - mean_squared_error: 0.1543\n",
      "Epoch 10/19\n",
      "8/8 [==============================] - 0s 1ms/step - loss: 0.1408 - mean_squared_error: 0.1408\n",
      "Epoch 11/19\n",
      "8/8 [==============================] - 0s 1ms/step - loss: 0.1710 - mean_squared_error: 0.1710\n",
      "Epoch 12/19\n",
      "8/8 [==============================] - 0s 1ms/step - loss: 0.1560 - mean_squared_error: 0.1560\n",
      "Epoch 13/19\n",
      "8/8 [==============================] - 0s 1ms/step - loss: 0.1100 - mean_squared_error: 0.1100\n",
      "Epoch 14/19\n",
      "8/8 [==============================] - 0s 1ms/step - loss: 0.0948 - mean_squared_error: 0.0948\n",
      "Epoch 15/19\n",
      "8/8 [==============================] - 0s 1ms/step - loss: 0.1064 - mean_squared_error: 0.1064\n",
      "Epoch 16/19\n",
      "8/8 [==============================] - 0s 1ms/step - loss: 0.0854 - mean_squared_error: 0.0854\n",
      "Epoch 17/19\n",
      "8/8 [==============================] - 0s 1ms/step - loss: 0.0818 - mean_squared_error: 0.0818\n",
      "Epoch 18/19\n",
      "8/8 [==============================] - 0s 1ms/step - loss: 0.0652 - mean_squared_error: 0.0652\n",
      "Epoch 19/19\n",
      "8/8 [==============================] - 0s 2ms/step - loss: 0.0678 - mean_squared_error: 0.0678\n",
      "INFO:tensorflow:Assets written to: .\\structured_data_regressor\\best_model\\assets\n"
     ]
    },
    {
     "name": "stderr",
     "output_type": "stream",
     "text": [
      "INFO:tensorflow:Assets written to: .\\structured_data_regressor\\best_model\\assets\n"
     ]
    },
    {
     "data": {
      "text/plain": [
       "<keras.callbacks.History at 0x19cd8b50280>"
      ]
     },
     "execution_count": 180,
     "metadata": {},
     "output_type": "execute_result"
    }
   ],
   "source": [
    "reg.fit(x=X_train, y=y_train, verbose=0)"
   ]
  },
  {
   "cell_type": "code",
   "execution_count": 182,
   "id": "e7bc1cef",
   "metadata": {},
   "outputs": [
    {
     "name": "stdout",
     "output_type": "stream",
     "text": [
      "2/2 [==============================] - 0s 3ms/step\n",
      "2/2 [==============================] - 0s 2ms/step\n"
     ]
    }
   ],
   "source": [
    "yhat_test = reg.predict(X_test)\n",
    "\n",
    "model = reg.export_model()"
   ]
  },
  {
   "cell_type": "code",
   "execution_count": 183,
   "id": "e167a4aa",
   "metadata": {},
   "outputs": [
    {
     "name": "stdout",
     "output_type": "stream",
     "text": [
      "Model: \"model\"\n",
      "_________________________________________________________________\n",
      " Layer (type)                Output Shape              Param #   \n",
      "=================================================================\n",
      " input_1 (InputLayer)        [(None, 24)]              0         \n",
      "                                                                 \n",
      " multi_category_encoding (Mu  (None, 24)               0         \n",
      " ltiCategoryEncoding)                                            \n",
      "                                                                 \n",
      " normalization (Normalizatio  (None, 24)               49        \n",
      " n)                                                              \n",
      "                                                                 \n",
      " dense (Dense)               (None, 32)                800       \n",
      "                                                                 \n",
      " re_lu (ReLU)                (None, 32)                0         \n",
      "                                                                 \n",
      " dense_1 (Dense)             (None, 32)                1056      \n",
      "                                                                 \n",
      " re_lu_1 (ReLU)              (None, 32)                0         \n",
      "                                                                 \n",
      " dropout (Dropout)           (None, 32)                0         \n",
      "                                                                 \n",
      " regression_head_1 (Dense)   (None, 1)                 33        \n",
      "                                                                 \n",
      "=================================================================\n",
      "Total params: 1,938\n",
      "Trainable params: 1,889\n",
      "Non-trainable params: 49\n",
      "_________________________________________________________________\n"
     ]
    }
   ],
   "source": [
    "model.summary()"
   ]
  },
  {
   "cell_type": "code",
   "execution_count": 184,
   "id": "ccbb007f",
   "metadata": {},
   "outputs": [
    {
     "name": "stdout",
     "output_type": "stream",
     "text": [
      "8/8 [==============================] - 0s 1ms/step\n",
      "8/8 [==============================] - 0s 1ms/step\n"
     ]
    }
   ],
   "source": [
    "yhat_train= reg.predict(X_train)"
   ]
  },
  {
   "cell_type": "code",
   "execution_count": 185,
   "id": "63154173",
   "metadata": {},
   "outputs": [],
   "source": [
    "train_predict=scaler.inverse_transform(yhat_train)\n",
    "test_predict=scaler.inverse_transform(yhat_test)"
   ]
  },
  {
   "cell_type": "code",
   "execution_count": 187,
   "id": "a7a76c5d",
   "metadata": {},
   "outputs": [
    {
     "data": {
      "text/plain": [
       "0.028845733278035475"
      ]
     },
     "execution_count": 187,
     "metadata": {},
     "output_type": "execute_result"
    }
   ],
   "source": [
    "from sklearn.metrics import mean_squared_error\n",
    "mean_squared_error(y_test,yhat_test)"
   ]
  },
  {
   "cell_type": "code",
   "execution_count": 188,
   "id": "344d34e7",
   "metadata": {},
   "outputs": [
    {
     "data": {
      "text/plain": [
       "0.013273751902662315"
      ]
     },
     "execution_count": 188,
     "metadata": {},
     "output_type": "execute_result"
    }
   ],
   "source": [
    "mean_squared_error(y_train,yhat_train)"
   ]
  }
 ],
 "metadata": {
  "kernelspec": {
   "display_name": "Python 3 (ipykernel)",
   "language": "python",
   "name": "python3"
  },
  "language_info": {
   "codemirror_mode": {
    "name": "ipython",
    "version": 3
   },
   "file_extension": ".py",
   "mimetype": "text/x-python",
   "name": "python",
   "nbconvert_exporter": "python",
   "pygments_lexer": "ipython3",
   "version": "3.9.12"
  }
 },
 "nbformat": 4,
 "nbformat_minor": 5
}
